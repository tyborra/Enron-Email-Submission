{
 "cells": [
  {
   "cell_type": "markdown",
   "metadata": {},
   "source": [
    "# Enron Email and Financial Dataset\n",
    "\n",
    "> This notebook is part of a project from Udacity's Data Analyst Nanodegree\n",
    "\n",
    "<ul>\n",
    "<li><a href=\"#ols\">StudentizedOLSClassifier</a></li>    \n",
    "<li><a href=\"#outliers\">Remove Outliers</a></li>\n",
    "<li><a href=\"#transform\">Data Transformation</a></li>    \n",
    "<li><a href=\"#features\">Create Features</a></li>\n",
    "<li><a href=\"#features2\">More Features</a></li>\n",
    "<li><a href=\"#olsfinal\">Final Model</a></li>\n",
    "</ul>"
   ]
  },
  {
   "cell_type": "code",
   "execution_count": 1,
   "metadata": {},
   "outputs": [],
   "source": [
    "import logging\n",
    "logging.captureWarnings(True)\n",
    "%matplotlib inline"
   ]
  },
  {
   "cell_type": "code",
   "execution_count": 2,
   "metadata": {},
   "outputs": [],
   "source": [
    "import sys\n",
    "import pickle\n",
    "sys.path.append(\"../tools/\")\n",
    "\n",
    "from feature_format import featureFormat, targetFeatureSplit\n",
    "from tester import dump_classifier_and_data\n",
    "\n",
    "import pandas as pd\n",
    "import numpy as np\n",
    "import matplotlib.pyplot as plt\n",
    "plt.style.use('ggplot')\n",
    "import seaborn as sns\n",
    "\n",
    "from sklearn.preprocessing import Imputer, Normalizer\n",
    "from statsmodels.stats.outliers_influence import OLSInfluence\n",
    "from statsmodels.regression.linear_model import OLS\n",
    "from matplotlib.colors import ListedColormap\n",
    "from sklearn.model_selection import train_test_split\n",
    "from sklearn import preprocessing\n",
    "from sklearn.preprocessing import StandardScaler\n",
    "from sklearn.datasets import make_moons, make_circles, make_classification\n",
    "from sklearn.neural_network import MLPClassifier\n",
    "from sklearn.neighbors import KNeighborsClassifier\n",
    "from sklearn.svm import SVC\n",
    "from sklearn.gaussian_process import GaussianProcessClassifier\n",
    "from sklearn.gaussian_process.kernels import RBF\n",
    "from sklearn.tree import DecisionTreeClassifier\n",
    "from sklearn.linear_model import LogisticRegression, RidgeClassifier\n",
    "from sklearn.ensemble import RandomForestClassifier, AdaBoostClassifier\n",
    "from sklearn.naive_bayes import GaussianNB\n",
    "from sklearn.discriminant_analysis import QuadraticDiscriminantAnalysis\n",
    "from sklearn import model_selection\n",
    "from sklearn.model_selection import KFold, StratifiedKFold\n",
    "from sklearn.cross_validation import StratifiedShuffleSplit\n",
    "from sklearn.model_selection import GridSearchCV\n",
    "import lightgbm as lgb\n",
    "from sklearn.metrics import confusion_matrix\n",
    "from sklearn.metrics import classification_report\n",
    "from imblearn.over_sampling import SMOTE\n",
    "from tester import dump_classifier_and_data, test_classifier\n",
    "from testerFast import  test_classifier_fast\n",
    "from feature_format import featureFormat, targetFeatureSplit\n",
    "from sklearn.svm import LinearSVC\n",
    "from scipy.stats import skew\n",
    "from imblearn.pipeline import Pipeline\n",
    "from sklearn.pipeline import Pipeline as sk_pipeline\n",
    "from sklearn.decomposition import PCA\n",
    "from sklearn.feature_selection import SelectKBest, chi2, SelectFpr\n",
    "from sklearn.base import ClassifierMixin\n",
    "\n",
    "\n",
    "SEED = 5678\n",
    "np.random.seed(SEED)"
   ]
  },
  {
   "cell_type": "markdown",
   "metadata": {},
   "source": [
    "<a id='ols'></a>\n",
    "# StudentizedOLSClassifier\n",
    "> This is a custom classifier created using Scikit Learn's project template for custom estimators.\n",
    "> It uses statsmodels OLS for the initial fit. Predict then uses the same OLS model to make a \n",
    "> prediction. The median of the predictions is subtracted from the prediction to create an estimated \n",
    "> residual. The estimated residual is then divided by the standard deviation of the residuals from the fit\n",
    "> to create an estimated studentized residual. These studentized residuals are then tested against the\n",
    "> hyperparameter \"threshold\" to determine the label. All  values greater than or equal to the threshold are \n",
    "> labeled True, and values less than the threshold are labeled False."
   ]
  },
  {
   "cell_type": "code",
   "execution_count": 3,
   "metadata": {},
   "outputs": [],
   "source": [
    "\n",
    "import numpy as np\n",
    "from sklearn.base import BaseEstimator, ClassifierMixin, TransformerMixin\n",
    "from sklearn.utils.validation import check_X_y, check_array, check_is_fitted\n",
    "from sklearn.utils.multiclass import unique_labels\n",
    "from sklearn.metrics import euclidean_distances\n",
    "import pandas as pd\n",
    "from statsmodels.stats.outliers_influence import OLSInfluence\n",
    "from statsmodels.regression.linear_model import OLS\n",
    "\n",
    "class StudentizedOLSClassifier(BaseEstimator, ClassifierMixin ):\n",
    "    \n",
    "    def __init__(self, threshold = 'threshold'):\n",
    "        \n",
    "        #decision threshold of studentized residuals\n",
    "        self.threshold = threshold    \n",
    "        np.random.seed(SEED)\n",
    "        \n",
    "    def fit(self, X, y):\n",
    "        \n",
    "        # Check that X and y have correct shape\n",
    "        X, y = check_X_y(X, y)\n",
    "        \n",
    "        # Store the classes seen during fit\n",
    "        self.classes_ = unique_labels(y) \n",
    "        \n",
    "        #convert to df\n",
    "        self.X_ = pd.DataFrame(X)\n",
    "        self.y_ = pd.DataFrame(y)         \n",
    "        \n",
    "        #Fit OLS model\n",
    "        self.ols_mod = OLS(endog = self.y_, exog = self.X_)\n",
    "        self.ols_result = self.ols_mod.fit()\n",
    "        \n",
    "        # Return the classifier\n",
    "        return self\n",
    "\n",
    "    def predict(self, X):\n",
    "        \n",
    "        # Check if fit had been called\n",
    "        check_is_fitted(self, ['X_', 'y_'])\n",
    "        \n",
    "        # Input validation\n",
    "        X = check_array(X)\n",
    "        X_n = pd.DataFrame(X)\n",
    "        \n",
    "        #OLS prediction       \n",
    "        prediction = self.ols_result.predict(X_n)        \n",
    "        \n",
    "        #calculate outlier and influence measures for OLS result\n",
    "        inf = OLSInfluence(self.ols_result)\n",
    "        \n",
    "        #Staandard Deviation of studentized residuals\n",
    "        std = inf.resid_std\n",
    "        \n",
    "        \"\"\"\n",
    "        Subtract the median of the predictions from the predictions to create an estimated residual.\n",
    "        Then divide the estiamted residual by the by the estimated standard deviation, the\n",
    "        standard deviation of the residuals from training, to create an estimated studentized residual.\n",
    "           \n",
    "        \"\"\" \n",
    "        # estimated residual\n",
    "        estimated_residual = prediction - np.nanmedian(prediction)\n",
    "        \n",
    "        #estiamted studentized residual\n",
    "        stud_res = estimated_residual/np.nanmean(std)    #estimate using mean\n",
    "        #stud_res = prediction/np.nanmedian(std)         #estimate using median\n",
    "        \n",
    "        #create predictions based on the threshold\n",
    "        self.preds = []        \n",
    "        for res in stud_res:\n",
    "            if res >= self.threshold:    \n",
    "                self.preds.append(True)\n",
    "            else:\n",
    "                self.preds.append(False)\n",
    "                \n",
    "        return self.preds"
   ]
  },
  {
   "cell_type": "markdown",
   "metadata": {},
   "source": [
    "# Functions"
   ]
  },
  {
   "cell_type": "code",
   "execution_count": 4,
   "metadata": {},
   "outputs": [],
   "source": [
    "# prepares data for tester returns list and dict \n",
    "def tester_prep(dfn):\n",
    "    features_list = dfn.columns.values\n",
    "    data_dict = dfn.to_dict('index')\n",
    "    return features_list, data_dict\n",
    "\n",
    "# returns basic metrics for classifiers\n",
    "def classification_metrics(y_val, preds):\n",
    "    tn, fp, fn, tp = confusion_matrix(y_val, preds).ravel()\n",
    "    total_val = len(y_val)\n",
    "    all_y = len(y_val[y_val == True])\n",
    "    per_tp = round(tp/all_y, 3) *100\n",
    "    precision = 1.0*tp/(tp+fp)\n",
    "    recall = 1.0*tp/(tp+fn)\n",
    "    print(classification_report(y_val, preds))\n",
    "    print('\\nTrue Positive:  {}\\nFalse Positive: {}\\nTrue Negative:  {}\\nFalse Negative: {}\\n\\nTotal: {}\\nPercent True Positive: {}%'\n",
    "          .format(tp, fp, tn, fn, total_val, per_tp))\n",
    "    print('\\nprecision: {}\\nrecall: {}'.format(precision, recall))\n",
    "\n",
    "# checks for skew in numeric columns\n",
    "def skew_check(features):\n",
    "    numeric_dtypes = ['int16', 'int32', 'int64', 'float16', 'float32', 'float64']\n",
    "    numerics2 = []\n",
    "    for i in features.columns:\n",
    "        if features[i].dtype in numeric_dtypes: \n",
    "            numerics2.append(i)\n",
    "\n",
    "    skew_features = features[numerics2].apply(lambda x: skew(x)).sort_values(ascending=False)\n",
    "    skews = pd.DataFrame({'skew':skew_features})\n",
    "    print(skews)\n",
    "    #return skew_features\n",
    "    \n",
    "# Functions to plot feature importance\n",
    "def plot_fi(fi, titl):\n",
    "    return fi.plot('cols', 'imp', 'barh', figsize = (12,12), legend = False).set_title(titl, fontdict = {'fontsize' : 16})\n",
    "\n",
    "# returns df of feature inportance\n",
    "def rf_feat_importance(m, df):\n",
    "    return pd.DataFrame({'cols':df.columns, 'imp':m.feature_importances_}).sort_values('imp', ascending=True)\n",
    "\n",
    "#fits model to kfolds and returns column with predictions\n",
    "def fit_folds(model, X_train, y_train,  n_folds):\n",
    "    \n",
    "    new_col = np.zeros((X_train.shape[0], 1))\n",
    "    kfold = KFold( n_splits = n_folds, shuffle=True, random_state=SEED) \n",
    "        \n",
    "    for train_index, test_index in kfold.split(X_train):  \n",
    "        Xt, Xv = X_train.iloc[train_index], X_train.iloc[test_index]\n",
    "        yt, yv = y_train.iloc[train_index], y_train.iloc[test_index]\n",
    "        model.fit(Xt, yt)\n",
    "        pred = np.column_stack([model.predict(Xv)])        \n",
    "        new_col[test_index] = pred\n",
    "                        \n",
    "    return(new_col)"
   ]
  },
  {
   "cell_type": "markdown",
   "metadata": {},
   "source": [
    "# Task 1: Select what features you'll use."
   ]
  },
  {
   "cell_type": "code",
   "execution_count": 5,
   "metadata": {},
   "outputs": [
    {
     "data": {
      "text/plain": [
       "146"
      ]
     },
     "execution_count": 5,
     "metadata": {},
     "output_type": "execute_result"
    }
   ],
   "source": [
    "\n",
    "### features_list is a list of strings, each of which is a feature name.\n",
    "### The first feature must be \"poi\".\n",
    "# features_list = ['poi', 'salary', 'to_messages', 'deferral_payments', 'total_payments',\n",
    "#        'exercised_stock_options', 'bonus', 'restricted_stock',\n",
    "#        'shared_receipt_with_poi', 'restricted_stock_deferred',\n",
    "#        'total_stock_value', 'expenses', 'loan_advances', 'from_messages',\n",
    "#        'other', 'from_this_person_to_poi', 'director_fees',\n",
    "#        'deferred_income', 'long_term_incentive', 'from_poi_to_this_person',\n",
    "#        'QDA', 'KNN', 'DTC', 'GNB', 'ABC', 'MLP'] \n",
    "\n",
    "# #removed features\n",
    "# drop_these =  {'email_address','deferral_payments','restricted_stock_deferred', 'loan_advances'}\n",
    "\n",
    "### Load the dictionary containing the dataset\n",
    "with open(\"final_project_dataset.pkl\", \"r\") as data_file:\n",
    "    data_dict = pickle.load(data_file)\n",
    "    \n",
    "len(data_dict)"
   ]
  },
  {
   "cell_type": "code",
   "execution_count": 6,
   "metadata": {},
   "outputs": [
    {
     "data": {
      "text/plain": [
       "(146, 21)"
      ]
     },
     "execution_count": 6,
     "metadata": {},
     "output_type": "execute_result"
    }
   ],
   "source": [
    "df = pd.DataFrame.from_dict(data_dict, orient = 'index')\n",
    "raw_df = df.copy()\n",
    "df.shape"
   ]
  },
  {
   "cell_type": "code",
   "execution_count": 7,
   "metadata": {},
   "outputs": [],
   "source": [
    "df.drop(['email_address'], axis = 1, inplace = True)"
   ]
  },
  {
   "cell_type": "markdown",
   "metadata": {},
   "source": [
    "## Impute missing data\n",
    "> This section caused a data leak so most of it was commented out"
   ]
  },
  {
   "cell_type": "code",
   "execution_count": 8,
   "metadata": {},
   "outputs": [],
   "source": [
    "cols = df.columns\n",
    "df[cols] = df[cols].apply(pd.to_numeric, errors='coerce')"
   ]
  },
  {
   "cell_type": "code",
   "execution_count": 9,
   "metadata": {},
   "outputs": [],
   "source": [
    "# not_cols =[ 'to_messages', 'from_messages', 'from_this_person_to_poi',  \n",
    "#              'from_poi_to_this_person', 'salary',  'deferral_payments', 'total_payments',\n",
    "#            'exercised_stock_options', 'bonus', 'restricted_stock',\n",
    "#            'shared_receipt_with_poi', 'restricted_stock_deferred',\n",
    "#            'total_stock_value', 'expenses', 'loan_advances', \n",
    "#            'other', 'director_fees', 'deferred_income', 'long_term_incentive']\n",
    "\n",
    "# poi_cols =[ 'to_messages', 'from_messages', 'from_this_person_to_poi',  \n",
    "#              'from_poi_to_this_person', 'salary',  'deferral_payments', 'total_payments',\n",
    "#                'exercised_stock_options', 'bonus', 'restricted_stock',\n",
    "#                'shared_receipt_with_poi', \n",
    "#                'total_stock_value', 'expenses', 'loan_advances', \n",
    "#                'other',  'deferred_income', 'long_term_incentive']\n",
    "\n",
    "# # no values in poi data\n",
    "# empty_cols = ['director_fees','restricted_stock_deferred']"
   ]
  },
  {
   "cell_type": "code",
   "execution_count": 10,
   "metadata": {},
   "outputs": [
    {
     "data": {
      "text/html": [
       "<div>\n",
       "<style scoped>\n",
       "    .dataframe tbody tr th:only-of-type {\n",
       "        vertical-align: middle;\n",
       "    }\n",
       "\n",
       "    .dataframe tbody tr th {\n",
       "        vertical-align: top;\n",
       "    }\n",
       "\n",
       "    .dataframe thead th {\n",
       "        text-align: right;\n",
       "    }\n",
       "</style>\n",
       "<table border=\"1\" class=\"dataframe\">\n",
       "  <thead>\n",
       "    <tr style=\"text-align: right;\">\n",
       "      <th></th>\n",
       "      <th>salary</th>\n",
       "      <th>to_messages</th>\n",
       "      <th>deferral_payments</th>\n",
       "      <th>total_payments</th>\n",
       "      <th>exercised_stock_options</th>\n",
       "      <th>bonus</th>\n",
       "      <th>restricted_stock</th>\n",
       "      <th>shared_receipt_with_poi</th>\n",
       "      <th>restricted_stock_deferred</th>\n",
       "      <th>total_stock_value</th>\n",
       "      <th>expenses</th>\n",
       "      <th>loan_advances</th>\n",
       "      <th>from_messages</th>\n",
       "      <th>other</th>\n",
       "      <th>from_this_person_to_poi</th>\n",
       "      <th>poi</th>\n",
       "      <th>director_fees</th>\n",
       "      <th>deferred_income</th>\n",
       "      <th>long_term_incentive</th>\n",
       "      <th>from_poi_to_this_person</th>\n",
       "    </tr>\n",
       "  </thead>\n",
       "  <tbody>\n",
       "    <tr>\n",
       "      <th>ALLEN PHILLIP K</th>\n",
       "      <td>201955.0</td>\n",
       "      <td>2902.0</td>\n",
       "      <td>2869717.0</td>\n",
       "      <td>4484442.0</td>\n",
       "      <td>1729541.0</td>\n",
       "      <td>4175000.0</td>\n",
       "      <td>126027.0</td>\n",
       "      <td>1407.0</td>\n",
       "      <td>-126027.0</td>\n",
       "      <td>1729541.0</td>\n",
       "      <td>13868.0</td>\n",
       "      <td>NaN</td>\n",
       "      <td>2195.0</td>\n",
       "      <td>152.0</td>\n",
       "      <td>65.0</td>\n",
       "      <td>False</td>\n",
       "      <td>NaN</td>\n",
       "      <td>-3081055.0</td>\n",
       "      <td>304805.0</td>\n",
       "      <td>47.0</td>\n",
       "    </tr>\n",
       "    <tr>\n",
       "      <th>BADUM JAMES P</th>\n",
       "      <td>NaN</td>\n",
       "      <td>NaN</td>\n",
       "      <td>178980.0</td>\n",
       "      <td>182466.0</td>\n",
       "      <td>257817.0</td>\n",
       "      <td>NaN</td>\n",
       "      <td>NaN</td>\n",
       "      <td>NaN</td>\n",
       "      <td>NaN</td>\n",
       "      <td>257817.0</td>\n",
       "      <td>3486.0</td>\n",
       "      <td>NaN</td>\n",
       "      <td>NaN</td>\n",
       "      <td>NaN</td>\n",
       "      <td>NaN</td>\n",
       "      <td>False</td>\n",
       "      <td>NaN</td>\n",
       "      <td>NaN</td>\n",
       "      <td>NaN</td>\n",
       "      <td>NaN</td>\n",
       "    </tr>\n",
       "    <tr>\n",
       "      <th>BANNANTINE JAMES M</th>\n",
       "      <td>477.0</td>\n",
       "      <td>566.0</td>\n",
       "      <td>NaN</td>\n",
       "      <td>916197.0</td>\n",
       "      <td>4046157.0</td>\n",
       "      <td>NaN</td>\n",
       "      <td>1757552.0</td>\n",
       "      <td>465.0</td>\n",
       "      <td>-560222.0</td>\n",
       "      <td>5243487.0</td>\n",
       "      <td>56301.0</td>\n",
       "      <td>NaN</td>\n",
       "      <td>29.0</td>\n",
       "      <td>864523.0</td>\n",
       "      <td>0.0</td>\n",
       "      <td>False</td>\n",
       "      <td>NaN</td>\n",
       "      <td>-5104.0</td>\n",
       "      <td>NaN</td>\n",
       "      <td>39.0</td>\n",
       "    </tr>\n",
       "    <tr>\n",
       "      <th>BAXTER JOHN C</th>\n",
       "      <td>267102.0</td>\n",
       "      <td>NaN</td>\n",
       "      <td>1295738.0</td>\n",
       "      <td>5634343.0</td>\n",
       "      <td>6680544.0</td>\n",
       "      <td>1200000.0</td>\n",
       "      <td>3942714.0</td>\n",
       "      <td>NaN</td>\n",
       "      <td>NaN</td>\n",
       "      <td>10623258.0</td>\n",
       "      <td>11200.0</td>\n",
       "      <td>NaN</td>\n",
       "      <td>NaN</td>\n",
       "      <td>2660303.0</td>\n",
       "      <td>NaN</td>\n",
       "      <td>False</td>\n",
       "      <td>NaN</td>\n",
       "      <td>-1386055.0</td>\n",
       "      <td>1586055.0</td>\n",
       "      <td>NaN</td>\n",
       "    </tr>\n",
       "    <tr>\n",
       "      <th>BAY FRANKLIN R</th>\n",
       "      <td>239671.0</td>\n",
       "      <td>NaN</td>\n",
       "      <td>260455.0</td>\n",
       "      <td>827696.0</td>\n",
       "      <td>NaN</td>\n",
       "      <td>400000.0</td>\n",
       "      <td>145796.0</td>\n",
       "      <td>NaN</td>\n",
       "      <td>-82782.0</td>\n",
       "      <td>63014.0</td>\n",
       "      <td>129142.0</td>\n",
       "      <td>NaN</td>\n",
       "      <td>NaN</td>\n",
       "      <td>69.0</td>\n",
       "      <td>NaN</td>\n",
       "      <td>False</td>\n",
       "      <td>NaN</td>\n",
       "      <td>-201641.0</td>\n",
       "      <td>NaN</td>\n",
       "      <td>NaN</td>\n",
       "    </tr>\n",
       "  </tbody>\n",
       "</table>\n",
       "</div>"
      ],
      "text/plain": [
       "                      salary  to_messages  deferral_payments  total_payments  \\\n",
       "ALLEN PHILLIP K     201955.0       2902.0          2869717.0       4484442.0   \n",
       "BADUM JAMES P            NaN          NaN           178980.0        182466.0   \n",
       "BANNANTINE JAMES M     477.0        566.0                NaN        916197.0   \n",
       "BAXTER JOHN C       267102.0          NaN          1295738.0       5634343.0   \n",
       "BAY FRANKLIN R      239671.0          NaN           260455.0        827696.0   \n",
       "\n",
       "                    exercised_stock_options      bonus  restricted_stock  \\\n",
       "ALLEN PHILLIP K                   1729541.0  4175000.0          126027.0   \n",
       "BADUM JAMES P                      257817.0        NaN               NaN   \n",
       "BANNANTINE JAMES M                4046157.0        NaN         1757552.0   \n",
       "BAXTER JOHN C                     6680544.0  1200000.0         3942714.0   \n",
       "BAY FRANKLIN R                          NaN   400000.0          145796.0   \n",
       "\n",
       "                    shared_receipt_with_poi  restricted_stock_deferred  \\\n",
       "ALLEN PHILLIP K                      1407.0                  -126027.0   \n",
       "BADUM JAMES P                           NaN                        NaN   \n",
       "BANNANTINE JAMES M                    465.0                  -560222.0   \n",
       "BAXTER JOHN C                           NaN                        NaN   \n",
       "BAY FRANKLIN R                          NaN                   -82782.0   \n",
       "\n",
       "                    total_stock_value  expenses  loan_advances  from_messages  \\\n",
       "ALLEN PHILLIP K             1729541.0   13868.0            NaN         2195.0   \n",
       "BADUM JAMES P                257817.0    3486.0            NaN            NaN   \n",
       "BANNANTINE JAMES M          5243487.0   56301.0            NaN           29.0   \n",
       "BAXTER JOHN C              10623258.0   11200.0            NaN            NaN   \n",
       "BAY FRANKLIN R                63014.0  129142.0            NaN            NaN   \n",
       "\n",
       "                        other  from_this_person_to_poi    poi  director_fees  \\\n",
       "ALLEN PHILLIP K         152.0                     65.0  False            NaN   \n",
       "BADUM JAMES P             NaN                      NaN  False            NaN   \n",
       "BANNANTINE JAMES M   864523.0                      0.0  False            NaN   \n",
       "BAXTER JOHN C       2660303.0                      NaN  False            NaN   \n",
       "BAY FRANKLIN R           69.0                      NaN  False            NaN   \n",
       "\n",
       "                    deferred_income  long_term_incentive  \\\n",
       "ALLEN PHILLIP K          -3081055.0             304805.0   \n",
       "BADUM JAMES P                   NaN                  NaN   \n",
       "BANNANTINE JAMES M          -5104.0                  NaN   \n",
       "BAXTER JOHN C            -1386055.0            1586055.0   \n",
       "BAY FRANKLIN R            -201641.0                  NaN   \n",
       "\n",
       "                    from_poi_to_this_person  \n",
       "ALLEN PHILLIP K                        47.0  \n",
       "BADUM JAMES P                           NaN  \n",
       "BANNANTINE JAMES M                     39.0  \n",
       "BAXTER JOHN C                           NaN  \n",
       "BAY FRANKLIN R                          NaN  "
      ]
     },
     "execution_count": 10,
     "metadata": {},
     "output_type": "execute_result"
    }
   ],
   "source": [
    "df.head()"
   ]
  },
  {
   "cell_type": "code",
   "execution_count": 11,
   "metadata": {},
   "outputs": [],
   "source": [
    "# imputer_poi = Imputer(missing_values='NaN', strategy = 'mean', axis=0)\n",
    "# imputer_not = Imputer(missing_values='NaN', strategy = 'mean', axis=0)"
   ]
  },
  {
   "cell_type": "code",
   "execution_count": 12,
   "metadata": {},
   "outputs": [],
   "source": [
    "# poi_df = df[df['poi'] == True]\n",
    "# not_df = df[df['poi'] == False]\n",
    "\n",
    "# not_df.loc[: , not_cols] = imputer_not.fit_transform(not_df.loc[: , not_cols])\n",
    "# poi_df.loc[: , poi_cols] = imputer_poi.fit_transform(poi_df.loc[: , poi_cols])"
   ]
  },
  {
   "cell_type": "code",
   "execution_count": 13,
   "metadata": {},
   "outputs": [],
   "source": [
    "# poi_df[empty_cols] = poi_df[empty_cols].fillna(value = 0, axis = 0)"
   ]
  },
  {
   "cell_type": "code",
   "execution_count": 14,
   "metadata": {},
   "outputs": [],
   "source": [
    "# not_df.head()"
   ]
  },
  {
   "cell_type": "code",
   "execution_count": 15,
   "metadata": {},
   "outputs": [],
   "source": [
    "# df = pd.concat([poi_df, not_df],axis = 0)\n",
    "# df.shape"
   ]
  },
  {
   "cell_type": "code",
   "execution_count": 16,
   "metadata": {},
   "outputs": [],
   "source": [
    "# df.head()"
   ]
  },
  {
   "cell_type": "code",
   "execution_count": 17,
   "metadata": {},
   "outputs": [],
   "source": [
    "df = df.fillna(value = 0, axis = 0)"
   ]
  },
  {
   "cell_type": "code",
   "execution_count": 18,
   "metadata": {},
   "outputs": [
    {
     "name": "stdout",
     "output_type": "stream",
     "text": [
      "((146L,), (146, 19))\n"
     ]
    }
   ],
   "source": [
    "y = df['poi'].copy()\n",
    "df.drop(['poi'], axis = 1, inplace = True)\n",
    "print(y.shape, df.shape)"
   ]
  },
  {
   "cell_type": "code",
   "execution_count": 19,
   "metadata": {},
   "outputs": [
    {
     "data": {
      "text/plain": [
       "False"
      ]
     },
     "execution_count": 19,
     "metadata": {},
     "output_type": "execute_result"
    }
   ],
   "source": [
    "df.isnull().values.any()"
   ]
  },
  {
   "cell_type": "markdown",
   "metadata": {},
   "source": [
    "<a id='outliers'></a>\n",
    "# Task 2: Remove outliers"
   ]
  },
  {
   "cell_type": "code",
   "execution_count": 20,
   "metadata": {
    "scrolled": true
   },
   "outputs": [],
   "source": [
    "ols_mod = OLS(endog = y.values, exog = df)\n",
    "ols_result = ols_mod.fit()"
   ]
  },
  {
   "cell_type": "code",
   "execution_count": 21,
   "metadata": {},
   "outputs": [],
   "source": [
    "out_test = ols_result.outlier_test()['bonf(p)']"
   ]
  },
  {
   "cell_type": "code",
   "execution_count": 22,
   "metadata": {},
   "outputs": [
    {
     "data": {
      "text/plain": [
       "['BHATNAGAR SANJAY']"
      ]
     },
     "execution_count": 22,
     "metadata": {},
     "output_type": "execute_result"
    }
   ],
   "source": [
    "outliers = list(out_test[out_test<1e-3].index) \n",
    "\n",
    "outliers"
   ]
  },
  {
   "cell_type": "code",
   "execution_count": 23,
   "metadata": {},
   "outputs": [
    {
     "name": "stdout",
     "output_type": "stream",
     "text": [
      "(['BECK SALLY W', 'BHATNAGAR SANJAY', 'BLACHMAN JEREMY M', 'BUY RICHARD B', 'DIETRICH JANET R', 'LAVORATO JOHN J', 'LEFF DANIEL P', 'MCCONNELL MICHAEL S', 'REDMOND BRIAN L', 'SHARP VICTORIA T', 'SUNDE MARTIN', 'TOTAL', 'WHALLEY LAWRENCE G'], ['BELDEN TIMOTHY N', 'BOWEN JR RAYMOND M', 'CALGER CHRISTOPHER F', 'CAUSEY RICHARD A', 'COLWELL WESLEY', 'DELAINEY DAVID W', 'FASTOW ANDREW S', 'GLISAN JR BEN F', 'HIRKO JOSEPH', 'KAMINSKI WINCENTY J', 'KOENIG MARK E', 'KOPPER MICHAEL J', 'LAY KENNETH L', 'RIEKER PAULA H', 'SHELBY REX', 'SKILLING JEFFREY K', 'YEAGER F SCOTT'])\n"
     ]
    }
   ],
   "source": [
    "inf = OLSInfluence(ols_result)\n",
    "stud = inf.resid_studentized_internal\n",
    "less_outliers = list(stud[stud < -1 ].index)  \n",
    "more_outliers = list(stud[stud > 1 ].index) \n",
    "print(less_outliers, more_outliers)"
   ]
  },
  {
   "cell_type": "code",
   "execution_count": 24,
   "metadata": {},
   "outputs": [],
   "source": [
    "inf = OLSInfluence(ols_result)\n",
    "stud = inf.resid_studentized_internal\n",
    "less_outliers = list(stud[stud < -1 ].index) \n",
    "more_outliers = list(stud[stud > 1 ].index)"
   ]
  },
  {
   "cell_type": "code",
   "execution_count": 25,
   "metadata": {},
   "outputs": [
    {
     "name": "stdout",
     "output_type": "stream",
     "text": [
      "17\n",
      "BELDEN TIMOTHY N         True\n",
      "BOWEN JR RAYMOND M       True\n",
      "CALGER CHRISTOPHER F     True\n",
      "CAUSEY RICHARD A         True\n",
      "COLWELL WESLEY           True\n",
      "DELAINEY DAVID W         True\n",
      "FASTOW ANDREW S          True\n",
      "GLISAN JR BEN F          True\n",
      "HIRKO JOSEPH             True\n",
      "KAMINSKI WINCENTY J     False\n",
      "KOENIG MARK E            True\n",
      "KOPPER MICHAEL J         True\n",
      "LAY KENNETH L            True\n",
      "RIEKER PAULA H           True\n",
      "SHELBY REX               True\n",
      "SKILLING JEFFREY K       True\n",
      "YEAGER F SCOTT           True\n",
      "Name: poi, dtype: bool\n"
     ]
    }
   ],
   "source": [
    "print(len(y.loc[more_outliers]))\n",
    "print(y.loc[more_outliers])"
   ]
  },
  {
   "cell_type": "code",
   "execution_count": 26,
   "metadata": {},
   "outputs": [
    {
     "name": "stdout",
     "output_type": "stream",
     "text": [
      "18\n"
     ]
    }
   ],
   "source": [
    "print(len(raw_df.loc[(raw_df['poi'] == True)]))"
   ]
  },
  {
   "cell_type": "code",
   "execution_count": 27,
   "metadata": {},
   "outputs": [
    {
     "name": "stdout",
     "output_type": "stream",
     "text": [
      "13\n",
      "BECK SALLY W           False\n",
      "BHATNAGAR SANJAY       False\n",
      "BLACHMAN JEREMY M      False\n",
      "BUY RICHARD B          False\n",
      "DIETRICH JANET R       False\n",
      "LAVORATO JOHN J        False\n",
      "LEFF DANIEL P          False\n",
      "MCCONNELL MICHAEL S    False\n",
      "REDMOND BRIAN L        False\n",
      "SHARP VICTORIA T       False\n",
      "SUNDE MARTIN           False\n",
      "TOTAL                  False\n",
      "WHALLEY LAWRENCE G     False\n",
      "Name: poi, dtype: bool\n"
     ]
    }
   ],
   "source": [
    "print(len(y.loc[less_outliers]))\n",
    "print(y.loc[less_outliers])"
   ]
  },
  {
   "cell_type": "code",
   "execution_count": 28,
   "metadata": {},
   "outputs": [
    {
     "name": "stdout",
     "output_type": "stream",
     "text": [
      "set(['BLACHMAN JEREMY M', 'TOTAL', 'BECK SALLY W', 'BHATNAGAR SANJAY', 'BUY RICHARD B', 'SUNDE MARTIN', 'MCCONNELL MICHAEL S', 'DIETRICH JANET R', 'LEFF DANIEL P', 'REDMOND BRIAN L', 'LAVORATO JOHN J', 'WHALLEY LAWRENCE G', 'KAMINSKI WINCENTY J', 'THE TRAVEL AGENCY IN THE PARK', 'SHARP VICTORIA T'])\n"
     ]
    }
   ],
   "source": [
    "drop_list = set(df.loc[less_outliers].index )\n",
    "drop_list.update(df.loc[['TOTAL']].index)\n",
    "drop_list.update(df.loc[['THE TRAVEL AGENCY IN THE PARK']].index)\n",
    "drop_list.update(df.loc[['KAMINSKI WINCENTY J']].index)\n",
    "#drop_list.update(df.loc[more_outliers].index)\n",
    "print(drop_list)"
   ]
  },
  {
   "cell_type": "code",
   "execution_count": 29,
   "metadata": {},
   "outputs": [
    {
     "name": "stdout",
     "output_type": "stream",
     "text": [
      "((131, 19), (146L,))\n"
     ]
    }
   ],
   "source": [
    "df.drop(drop_list, axis = 0, inplace = True)\n",
    "\n",
    "print(df.shape, y.shape)"
   ]
  },
  {
   "cell_type": "code",
   "execution_count": 30,
   "metadata": {},
   "outputs": [
    {
     "name": "stdout",
     "output_type": "stream",
     "text": [
      "((131, 19), (131L,))\n"
     ]
    }
   ],
   "source": [
    "y.drop(drop_list, axis = 0, inplace = True)\n",
    "print(df.shape, y.shape)"
   ]
  },
  {
   "cell_type": "code",
   "execution_count": 31,
   "metadata": {},
   "outputs": [
    {
     "data": {
      "text/plain": [
       "False    113\n",
       "True      18\n",
       "Name: poi, dtype: int64"
      ]
     },
     "execution_count": 31,
     "metadata": {},
     "output_type": "execute_result"
    }
   ],
   "source": [
    "y.value_counts()"
   ]
  },
  {
   "cell_type": "markdown",
   "metadata": {},
   "source": [
    "<a id='transform'></a>\n",
    "# Data Transformations\n",
    "> Standard scaler was originally used, later dropped and commented out"
   ]
  },
  {
   "cell_type": "code",
   "execution_count": 32,
   "metadata": {},
   "outputs": [
    {
     "name": "stdout",
     "output_type": "stream",
     "text": [
      "(salary                       1.776924e+05\n",
      "to_messages                  9.958321e+02\n",
      "deferral_payments            2.377393e+05\n",
      "total_payments               2.126312e+06\n",
      "exercised_stock_options      2.089678e+06\n",
      "bonus                        6.068215e+05\n",
      "restricted_stock             9.090039e+05\n",
      "shared_receipt_with_poi      5.502443e+02\n",
      "restricted_stock_deferred   -3.728330e+04\n",
      "total_stock_value            2.960700e+06\n",
      "expenses                     3.485377e+04\n",
      "loan_advances                6.406489e+05\n",
      "from_messages                1.995802e+02\n",
      "other                        3.166352e+05\n",
      "from_this_person_to_poi      1.671756e+01\n",
      "director_fees                9.918336e+03\n",
      "deferred_income             -2.075995e+05\n",
      "long_term_incentive          3.080627e+05\n",
      "from_poi_to_this_person      2.879389e+01\n",
      "dtype: float64, salary                       2.016122e+05\n",
      "to_messages                  2.110753e+03\n",
      "deferral_payments            7.872105e+05\n",
      "total_payments               9.171184e+06\n",
      "exercised_stock_options      4.986809e+06\n",
      "bonus                        1.096916e+06\n",
      "restricted_stock             2.079773e+06\n",
      "shared_receipt_with_poi      9.549662e+02\n",
      "restricted_stock_deferred    1.777028e+05\n",
      "total_stock_value            6.441908e+06\n",
      "expenses                     4.582539e+04\n",
      "loan_advances                7.123482e+06\n",
      "from_messages                7.532380e+02\n",
      "other                        1.183603e+06\n",
      "from_this_person_to_poi      6.606690e+01\n",
      "director_fees                3.070339e+04\n",
      "deferred_income              6.311770e+05\n",
      "long_term_incentive          6.923346e+05\n",
      "from_poi_to_this_person      5.451404e+01\n",
      "dtype: float64)\n"
     ]
    }
   ],
   "source": [
    "print(df.mean(axis=0), df.std(axis=0))"
   ]
  },
  {
   "cell_type": "code",
   "execution_count": 33,
   "metadata": {},
   "outputs": [],
   "source": [
    "# norm = preprocessing.Normalizer()\n",
    "# norm_df = norm.fit_transform(df)\n",
    "\n",
    "# sc = preprocessing.StandardScaler()\n",
    "# scaled_df = sc.fit_transform(df)"
   ]
  },
  {
   "cell_type": "code",
   "execution_count": 34,
   "metadata": {},
   "outputs": [],
   "source": [
    "# col = df.columns.values\n",
    "# df = pd.DataFrame(scaled_df, columns = col)"
   ]
  },
  {
   "cell_type": "code",
   "execution_count": 35,
   "metadata": {},
   "outputs": [],
   "source": [
    "# print(df.mean(axis=0), df.std(axis=0))"
   ]
  },
  {
   "cell_type": "code",
   "execution_count": 36,
   "metadata": {},
   "outputs": [
    {
     "data": {
      "text/html": [
       "<div>\n",
       "<style scoped>\n",
       "    .dataframe tbody tr th:only-of-type {\n",
       "        vertical-align: middle;\n",
       "    }\n",
       "\n",
       "    .dataframe tbody tr th {\n",
       "        vertical-align: top;\n",
       "    }\n",
       "\n",
       "    .dataframe thead th {\n",
       "        text-align: right;\n",
       "    }\n",
       "</style>\n",
       "<table border=\"1\" class=\"dataframe\">\n",
       "  <thead>\n",
       "    <tr style=\"text-align: right;\">\n",
       "      <th></th>\n",
       "      <th>salary</th>\n",
       "      <th>to_messages</th>\n",
       "      <th>deferral_payments</th>\n",
       "      <th>total_payments</th>\n",
       "      <th>exercised_stock_options</th>\n",
       "      <th>bonus</th>\n",
       "      <th>restricted_stock</th>\n",
       "      <th>shared_receipt_with_poi</th>\n",
       "      <th>restricted_stock_deferred</th>\n",
       "      <th>total_stock_value</th>\n",
       "      <th>expenses</th>\n",
       "      <th>loan_advances</th>\n",
       "      <th>from_messages</th>\n",
       "      <th>other</th>\n",
       "      <th>from_this_person_to_poi</th>\n",
       "      <th>director_fees</th>\n",
       "      <th>deferred_income</th>\n",
       "      <th>long_term_incentive</th>\n",
       "      <th>from_poi_to_this_person</th>\n",
       "    </tr>\n",
       "  </thead>\n",
       "  <tbody>\n",
       "    <tr>\n",
       "      <th>ALLEN PHILLIP K</th>\n",
       "      <td>201955.0</td>\n",
       "      <td>2902.0</td>\n",
       "      <td>2869717.0</td>\n",
       "      <td>4484442.0</td>\n",
       "      <td>1729541.0</td>\n",
       "      <td>4175000.0</td>\n",
       "      <td>126027.0</td>\n",
       "      <td>1407.0</td>\n",
       "      <td>-126027.0</td>\n",
       "      <td>1729541.0</td>\n",
       "      <td>13868.0</td>\n",
       "      <td>0.0</td>\n",
       "      <td>2195.0</td>\n",
       "      <td>152.0</td>\n",
       "      <td>65.0</td>\n",
       "      <td>0.0</td>\n",
       "      <td>-3081055.0</td>\n",
       "      <td>304805.0</td>\n",
       "      <td>47.0</td>\n",
       "    </tr>\n",
       "    <tr>\n",
       "      <th>BADUM JAMES P</th>\n",
       "      <td>0.0</td>\n",
       "      <td>0.0</td>\n",
       "      <td>178980.0</td>\n",
       "      <td>182466.0</td>\n",
       "      <td>257817.0</td>\n",
       "      <td>0.0</td>\n",
       "      <td>0.0</td>\n",
       "      <td>0.0</td>\n",
       "      <td>0.0</td>\n",
       "      <td>257817.0</td>\n",
       "      <td>3486.0</td>\n",
       "      <td>0.0</td>\n",
       "      <td>0.0</td>\n",
       "      <td>0.0</td>\n",
       "      <td>0.0</td>\n",
       "      <td>0.0</td>\n",
       "      <td>0.0</td>\n",
       "      <td>0.0</td>\n",
       "      <td>0.0</td>\n",
       "    </tr>\n",
       "    <tr>\n",
       "      <th>BANNANTINE JAMES M</th>\n",
       "      <td>477.0</td>\n",
       "      <td>566.0</td>\n",
       "      <td>0.0</td>\n",
       "      <td>916197.0</td>\n",
       "      <td>4046157.0</td>\n",
       "      <td>0.0</td>\n",
       "      <td>1757552.0</td>\n",
       "      <td>465.0</td>\n",
       "      <td>-560222.0</td>\n",
       "      <td>5243487.0</td>\n",
       "      <td>56301.0</td>\n",
       "      <td>0.0</td>\n",
       "      <td>29.0</td>\n",
       "      <td>864523.0</td>\n",
       "      <td>0.0</td>\n",
       "      <td>0.0</td>\n",
       "      <td>-5104.0</td>\n",
       "      <td>0.0</td>\n",
       "      <td>39.0</td>\n",
       "    </tr>\n",
       "    <tr>\n",
       "      <th>BAXTER JOHN C</th>\n",
       "      <td>267102.0</td>\n",
       "      <td>0.0</td>\n",
       "      <td>1295738.0</td>\n",
       "      <td>5634343.0</td>\n",
       "      <td>6680544.0</td>\n",
       "      <td>1200000.0</td>\n",
       "      <td>3942714.0</td>\n",
       "      <td>0.0</td>\n",
       "      <td>0.0</td>\n",
       "      <td>10623258.0</td>\n",
       "      <td>11200.0</td>\n",
       "      <td>0.0</td>\n",
       "      <td>0.0</td>\n",
       "      <td>2660303.0</td>\n",
       "      <td>0.0</td>\n",
       "      <td>0.0</td>\n",
       "      <td>-1386055.0</td>\n",
       "      <td>1586055.0</td>\n",
       "      <td>0.0</td>\n",
       "    </tr>\n",
       "    <tr>\n",
       "      <th>BAY FRANKLIN R</th>\n",
       "      <td>239671.0</td>\n",
       "      <td>0.0</td>\n",
       "      <td>260455.0</td>\n",
       "      <td>827696.0</td>\n",
       "      <td>0.0</td>\n",
       "      <td>400000.0</td>\n",
       "      <td>145796.0</td>\n",
       "      <td>0.0</td>\n",
       "      <td>-82782.0</td>\n",
       "      <td>63014.0</td>\n",
       "      <td>129142.0</td>\n",
       "      <td>0.0</td>\n",
       "      <td>0.0</td>\n",
       "      <td>69.0</td>\n",
       "      <td>0.0</td>\n",
       "      <td>0.0</td>\n",
       "      <td>-201641.0</td>\n",
       "      <td>0.0</td>\n",
       "      <td>0.0</td>\n",
       "    </tr>\n",
       "  </tbody>\n",
       "</table>\n",
       "</div>"
      ],
      "text/plain": [
       "                      salary  to_messages  deferral_payments  total_payments  \\\n",
       "ALLEN PHILLIP K     201955.0       2902.0          2869717.0       4484442.0   \n",
       "BADUM JAMES P            0.0          0.0           178980.0        182466.0   \n",
       "BANNANTINE JAMES M     477.0        566.0                0.0        916197.0   \n",
       "BAXTER JOHN C       267102.0          0.0          1295738.0       5634343.0   \n",
       "BAY FRANKLIN R      239671.0          0.0           260455.0        827696.0   \n",
       "\n",
       "                    exercised_stock_options      bonus  restricted_stock  \\\n",
       "ALLEN PHILLIP K                   1729541.0  4175000.0          126027.0   \n",
       "BADUM JAMES P                      257817.0        0.0               0.0   \n",
       "BANNANTINE JAMES M                4046157.0        0.0         1757552.0   \n",
       "BAXTER JOHN C                     6680544.0  1200000.0         3942714.0   \n",
       "BAY FRANKLIN R                          0.0   400000.0          145796.0   \n",
       "\n",
       "                    shared_receipt_with_poi  restricted_stock_deferred  \\\n",
       "ALLEN PHILLIP K                      1407.0                  -126027.0   \n",
       "BADUM JAMES P                           0.0                        0.0   \n",
       "BANNANTINE JAMES M                    465.0                  -560222.0   \n",
       "BAXTER JOHN C                           0.0                        0.0   \n",
       "BAY FRANKLIN R                          0.0                   -82782.0   \n",
       "\n",
       "                    total_stock_value  expenses  loan_advances  from_messages  \\\n",
       "ALLEN PHILLIP K             1729541.0   13868.0            0.0         2195.0   \n",
       "BADUM JAMES P                257817.0    3486.0            0.0            0.0   \n",
       "BANNANTINE JAMES M          5243487.0   56301.0            0.0           29.0   \n",
       "BAXTER JOHN C              10623258.0   11200.0            0.0            0.0   \n",
       "BAY FRANKLIN R                63014.0  129142.0            0.0            0.0   \n",
       "\n",
       "                        other  from_this_person_to_poi  director_fees  \\\n",
       "ALLEN PHILLIP K         152.0                     65.0            0.0   \n",
       "BADUM JAMES P             0.0                      0.0            0.0   \n",
       "BANNANTINE JAMES M   864523.0                      0.0            0.0   \n",
       "BAXTER JOHN C       2660303.0                      0.0            0.0   \n",
       "BAY FRANKLIN R           69.0                      0.0            0.0   \n",
       "\n",
       "                    deferred_income  long_term_incentive  \\\n",
       "ALLEN PHILLIP K          -3081055.0             304805.0   \n",
       "BADUM JAMES P                   0.0                  0.0   \n",
       "BANNANTINE JAMES M          -5104.0                  0.0   \n",
       "BAXTER JOHN C            -1386055.0            1586055.0   \n",
       "BAY FRANKLIN R            -201641.0                  0.0   \n",
       "\n",
       "                    from_poi_to_this_person  \n",
       "ALLEN PHILLIP K                        47.0  \n",
       "BADUM JAMES P                           0.0  \n",
       "BANNANTINE JAMES M                     39.0  \n",
       "BAXTER JOHN C                           0.0  \n",
       "BAY FRANKLIN R                          0.0  "
      ]
     },
     "execution_count": 36,
     "metadata": {},
     "output_type": "execute_result"
    }
   ],
   "source": [
    "df.head()"
   ]
  },
  {
   "cell_type": "markdown",
   "metadata": {},
   "source": [
    "## df_all"
   ]
  },
  {
   "cell_type": "code",
   "execution_count": 37,
   "metadata": {},
   "outputs": [
    {
     "data": {
      "text/plain": [
       "ALLEN PHILLIP K       False\n",
       "BADUM JAMES P         False\n",
       "BANNANTINE JAMES M    False\n",
       "BAXTER JOHN C         False\n",
       "BAY FRANKLIN R        False\n",
       "Name: poi, dtype: bool"
      ]
     },
     "execution_count": 37,
     "metadata": {},
     "output_type": "execute_result"
    }
   ],
   "source": [
    "y.head()"
   ]
  },
  {
   "cell_type": "markdown",
   "metadata": {},
   "source": [
    "y.reset_index(drop = True, inplace = True)"
   ]
  },
  {
   "cell_type": "code",
   "execution_count": 38,
   "metadata": {},
   "outputs": [
    {
     "data": {
      "text/plain": [
       "(131, 20)"
      ]
     },
     "execution_count": 38,
     "metadata": {},
     "output_type": "execute_result"
    }
   ],
   "source": [
    "#alll data\n",
    "df_all = pd.concat([y, df ], axis = 1)\n",
    "df_all.shape"
   ]
  },
  {
   "cell_type": "code",
   "execution_count": 39,
   "metadata": {},
   "outputs": [
    {
     "data": {
      "text/html": [
       "<div>\n",
       "<style scoped>\n",
       "    .dataframe tbody tr th:only-of-type {\n",
       "        vertical-align: middle;\n",
       "    }\n",
       "\n",
       "    .dataframe tbody tr th {\n",
       "        vertical-align: top;\n",
       "    }\n",
       "\n",
       "    .dataframe thead th {\n",
       "        text-align: right;\n",
       "    }\n",
       "</style>\n",
       "<table border=\"1\" class=\"dataframe\">\n",
       "  <thead>\n",
       "    <tr style=\"text-align: right;\">\n",
       "      <th></th>\n",
       "      <th>poi</th>\n",
       "      <th>salary</th>\n",
       "      <th>to_messages</th>\n",
       "      <th>deferral_payments</th>\n",
       "      <th>total_payments</th>\n",
       "      <th>exercised_stock_options</th>\n",
       "      <th>bonus</th>\n",
       "      <th>restricted_stock</th>\n",
       "      <th>shared_receipt_with_poi</th>\n",
       "      <th>restricted_stock_deferred</th>\n",
       "      <th>total_stock_value</th>\n",
       "      <th>expenses</th>\n",
       "      <th>loan_advances</th>\n",
       "      <th>from_messages</th>\n",
       "      <th>other</th>\n",
       "      <th>from_this_person_to_poi</th>\n",
       "      <th>director_fees</th>\n",
       "      <th>deferred_income</th>\n",
       "      <th>long_term_incentive</th>\n",
       "      <th>from_poi_to_this_person</th>\n",
       "    </tr>\n",
       "  </thead>\n",
       "  <tbody>\n",
       "    <tr>\n",
       "      <th>WINOKUR JR. HERBERT S</th>\n",
       "      <td>False</td>\n",
       "      <td>0.0</td>\n",
       "      <td>0.0</td>\n",
       "      <td>0.0</td>\n",
       "      <td>84992.0</td>\n",
       "      <td>0.0</td>\n",
       "      <td>0.0</td>\n",
       "      <td>0.0</td>\n",
       "      <td>0.0</td>\n",
       "      <td>0.0</td>\n",
       "      <td>0.0</td>\n",
       "      <td>1413.0</td>\n",
       "      <td>0.0</td>\n",
       "      <td>0.0</td>\n",
       "      <td>0.0</td>\n",
       "      <td>0.0</td>\n",
       "      <td>108579.0</td>\n",
       "      <td>-25000.0</td>\n",
       "      <td>0.0</td>\n",
       "      <td>0.0</td>\n",
       "    </tr>\n",
       "    <tr>\n",
       "      <th>WODRASKA JOHN</th>\n",
       "      <td>False</td>\n",
       "      <td>0.0</td>\n",
       "      <td>0.0</td>\n",
       "      <td>0.0</td>\n",
       "      <td>189583.0</td>\n",
       "      <td>0.0</td>\n",
       "      <td>0.0</td>\n",
       "      <td>0.0</td>\n",
       "      <td>0.0</td>\n",
       "      <td>0.0</td>\n",
       "      <td>0.0</td>\n",
       "      <td>0.0</td>\n",
       "      <td>0.0</td>\n",
       "      <td>0.0</td>\n",
       "      <td>189583.0</td>\n",
       "      <td>0.0</td>\n",
       "      <td>0.0</td>\n",
       "      <td>0.0</td>\n",
       "      <td>0.0</td>\n",
       "      <td>0.0</td>\n",
       "    </tr>\n",
       "    <tr>\n",
       "      <th>WROBEL BRUCE</th>\n",
       "      <td>False</td>\n",
       "      <td>0.0</td>\n",
       "      <td>0.0</td>\n",
       "      <td>0.0</td>\n",
       "      <td>0.0</td>\n",
       "      <td>139130.0</td>\n",
       "      <td>0.0</td>\n",
       "      <td>0.0</td>\n",
       "      <td>0.0</td>\n",
       "      <td>0.0</td>\n",
       "      <td>139130.0</td>\n",
       "      <td>0.0</td>\n",
       "      <td>0.0</td>\n",
       "      <td>0.0</td>\n",
       "      <td>0.0</td>\n",
       "      <td>0.0</td>\n",
       "      <td>0.0</td>\n",
       "      <td>0.0</td>\n",
       "      <td>0.0</td>\n",
       "      <td>0.0</td>\n",
       "    </tr>\n",
       "    <tr>\n",
       "      <th>YEAGER F SCOTT</th>\n",
       "      <td>True</td>\n",
       "      <td>158403.0</td>\n",
       "      <td>0.0</td>\n",
       "      <td>0.0</td>\n",
       "      <td>360300.0</td>\n",
       "      <td>8308552.0</td>\n",
       "      <td>0.0</td>\n",
       "      <td>3576206.0</td>\n",
       "      <td>0.0</td>\n",
       "      <td>0.0</td>\n",
       "      <td>11884758.0</td>\n",
       "      <td>53947.0</td>\n",
       "      <td>0.0</td>\n",
       "      <td>0.0</td>\n",
       "      <td>147950.0</td>\n",
       "      <td>0.0</td>\n",
       "      <td>0.0</td>\n",
       "      <td>0.0</td>\n",
       "      <td>0.0</td>\n",
       "      <td>0.0</td>\n",
       "    </tr>\n",
       "    <tr>\n",
       "      <th>YEAP SOON</th>\n",
       "      <td>False</td>\n",
       "      <td>0.0</td>\n",
       "      <td>0.0</td>\n",
       "      <td>0.0</td>\n",
       "      <td>55097.0</td>\n",
       "      <td>192758.0</td>\n",
       "      <td>0.0</td>\n",
       "      <td>0.0</td>\n",
       "      <td>0.0</td>\n",
       "      <td>0.0</td>\n",
       "      <td>192758.0</td>\n",
       "      <td>55097.0</td>\n",
       "      <td>0.0</td>\n",
       "      <td>0.0</td>\n",
       "      <td>0.0</td>\n",
       "      <td>0.0</td>\n",
       "      <td>0.0</td>\n",
       "      <td>0.0</td>\n",
       "      <td>0.0</td>\n",
       "      <td>0.0</td>\n",
       "    </tr>\n",
       "  </tbody>\n",
       "</table>\n",
       "</div>"
      ],
      "text/plain": [
       "                         poi    salary  to_messages  deferral_payments  \\\n",
       "WINOKUR JR. HERBERT S  False       0.0          0.0                0.0   \n",
       "WODRASKA JOHN          False       0.0          0.0                0.0   \n",
       "WROBEL BRUCE           False       0.0          0.0                0.0   \n",
       "YEAGER F SCOTT          True  158403.0          0.0                0.0   \n",
       "YEAP SOON              False       0.0          0.0                0.0   \n",
       "\n",
       "                       total_payments  exercised_stock_options  bonus  \\\n",
       "WINOKUR JR. HERBERT S         84992.0                      0.0    0.0   \n",
       "WODRASKA JOHN                189583.0                      0.0    0.0   \n",
       "WROBEL BRUCE                      0.0                 139130.0    0.0   \n",
       "YEAGER F SCOTT               360300.0                8308552.0    0.0   \n",
       "YEAP SOON                     55097.0                 192758.0    0.0   \n",
       "\n",
       "                       restricted_stock  shared_receipt_with_poi  \\\n",
       "WINOKUR JR. HERBERT S               0.0                      0.0   \n",
       "WODRASKA JOHN                       0.0                      0.0   \n",
       "WROBEL BRUCE                        0.0                      0.0   \n",
       "YEAGER F SCOTT                3576206.0                      0.0   \n",
       "YEAP SOON                           0.0                      0.0   \n",
       "\n",
       "                       restricted_stock_deferred  total_stock_value  expenses  \\\n",
       "WINOKUR JR. HERBERT S                        0.0                0.0    1413.0   \n",
       "WODRASKA JOHN                                0.0                0.0       0.0   \n",
       "WROBEL BRUCE                                 0.0           139130.0       0.0   \n",
       "YEAGER F SCOTT                               0.0         11884758.0   53947.0   \n",
       "YEAP SOON                                    0.0           192758.0   55097.0   \n",
       "\n",
       "                       loan_advances  from_messages     other  \\\n",
       "WINOKUR JR. HERBERT S            0.0            0.0       0.0   \n",
       "WODRASKA JOHN                    0.0            0.0  189583.0   \n",
       "WROBEL BRUCE                     0.0            0.0       0.0   \n",
       "YEAGER F SCOTT                   0.0            0.0  147950.0   \n",
       "YEAP SOON                        0.0            0.0       0.0   \n",
       "\n",
       "                       from_this_person_to_poi  director_fees  \\\n",
       "WINOKUR JR. HERBERT S                      0.0       108579.0   \n",
       "WODRASKA JOHN                              0.0            0.0   \n",
       "WROBEL BRUCE                               0.0            0.0   \n",
       "YEAGER F SCOTT                             0.0            0.0   \n",
       "YEAP SOON                                  0.0            0.0   \n",
       "\n",
       "                       deferred_income  long_term_incentive  \\\n",
       "WINOKUR JR. HERBERT S         -25000.0                  0.0   \n",
       "WODRASKA JOHN                      0.0                  0.0   \n",
       "WROBEL BRUCE                       0.0                  0.0   \n",
       "YEAGER F SCOTT                     0.0                  0.0   \n",
       "YEAP SOON                          0.0                  0.0   \n",
       "\n",
       "                       from_poi_to_this_person  \n",
       "WINOKUR JR. HERBERT S                      0.0  \n",
       "WODRASKA JOHN                              0.0  \n",
       "WROBEL BRUCE                               0.0  \n",
       "YEAGER F SCOTT                             0.0  \n",
       "YEAP SOON                                  0.0  "
      ]
     },
     "execution_count": 39,
     "metadata": {},
     "output_type": "execute_result"
    }
   ],
   "source": [
    "df_all.tail()"
   ]
  },
  {
   "cell_type": "markdown",
   "metadata": {},
   "source": [
    "<a id='features'></a>\n",
    "# Task 3: Create new feature(s) "
   ]
  },
  {
   "cell_type": "markdown",
   "metadata": {},
   "source": [
    "### MODELS as features\n",
    "#### Test Several Models"
   ]
  },
  {
   "cell_type": "code",
   "execution_count": 40,
   "metadata": {},
   "outputs": [
    {
     "name": "stdout",
     "output_type": "stream",
     "text": [
      "QDA: 0.000000 (0.000000)\n",
      "GPC: 0.000000 (0.000000)\n",
      "KNN: 0.166667 (0.139443)\n",
      "DTC: 0.233333 (0.200000)\n",
      "GNB: 0.416667 (0.258199)\n",
      "SVM: 0.000000 (0.000000)\n",
      "ABC: 0.350000 (0.226078)\n",
      "MLP: 0.050000 (0.100000)\n",
      "RID: 0.283333 (0.163299)\n",
      "log: 0.216667 (0.113039)\n"
     ]
    },
    {
     "data": {
      "image/png": "[encoded data removed]",
      "text/plain": [
       "<Figure size 432x288 with 1 Axes>"
      ]
     },
     "metadata": {},
     "output_type": "display_data"
    }
   ],
   "source": [
    "models = []\n",
    "models.append(('QDA', QuadraticDiscriminantAnalysis()))\n",
    "models.append(('GPC', GaussianProcessClassifier(1.0 * RBF(1.0),random_state = SEED)))\n",
    "models.append(('KNN', KNeighborsClassifier()))\n",
    "models.append(('DTC', DecisionTreeClassifier(random_state = SEED)))\n",
    "models.append(('GNB', GaussianNB()))\n",
    "models.append(('SVM', SVC(random_state = SEED)))\n",
    "models.append(('ABC', AdaBoostClassifier(random_state = SEED)))\n",
    "models.append(('MLP', MLPClassifier( random_state = SEED, max_iter=1000)))\n",
    "models.append(('RID', RidgeClassifier(random_state = SEED)))\n",
    "models.append(('log', LogisticRegression(random_state = SEED)))\n",
    "\n",
    "# test and plot all models in models list\n",
    "def test_models(models, data, target):\n",
    "    results = []\n",
    "    names = []\n",
    "    scoring = 'recall'\n",
    "\n",
    "    for name, model in models:\n",
    "        kfold = StratifiedKFold(n_splits=5, random_state=SEED)\n",
    "        cv_results = model_selection.cross_val_score(model, data, target, cv=kfold, scoring=scoring)\n",
    "        results.append(cv_results)\n",
    "        names.append(name)\n",
    "        msg = \"%s: %f (%f)\" % (name, cv_results.mean(), cv_results.std())\n",
    "        print(msg)\n",
    "        #classification_metrics(y_val, rfc_pred)\n",
    "\n",
    "    # boxplot algorithm comparison\n",
    "    fig = plt.figure()\n",
    "    fig.suptitle('Algorithm Comparison')\n",
    "    ax = fig.add_subplot(111)\n",
    "    plt.boxplot(results)\n",
    "    ax.set_xticklabels(names)\n",
    "    plt.show()\n",
    "\n",
    "\n",
    "#run test    \n",
    "test_models(models, df, y)"
   ]
  },
  {
   "cell_type": "code",
   "execution_count": 41,
   "metadata": {},
   "outputs": [],
   "source": [
    "smt = SMOTE(random_state = SEED)\n",
    "#pipelines\n",
    "lr_pipe =  Pipeline([('smt', smt),  ('lr', LogisticRegression(random_state = SEED))])\n",
    "knn_pipe = Pipeline([('smt', smt),  ('knn', KNeighborsClassifier())])\n",
    "gnb_pipe = Pipeline([('smt', smt),  ('gnb', GaussianNB())])\n",
    "dtc_pipe = Pipeline([('smt', smt),  ('dtc', DecisionTreeClassifier(random_state = SEED))])\n",
    "abc_pipe = Pipeline([('smt', smt),  ('abc', AdaBoostClassifier(random_state = SEED))])\n",
    "mlp_pipe = Pipeline([('smt', smt),  ('lr', MLPClassifier( random_state = SEED, max_iter=1000))])\n",
    "gpc_pipe = Pipeline([('smt', smt),  ('gpc', GaussianProcessClassifier(1.0 * RBF(1.0),random_state = SEED))])\n",
    "qda_pipe = Pipeline([('smt', smt),  ('qda', QuadraticDiscriminantAnalysis())])\n",
    "svc_pipe = Pipeline([('smt', smt),  ('svm', SVC(random_state = SEED))])\n",
    "rid_pipe = Pipeline([('smt', smt),  ('rid', RidgeClassifier(random_state = SEED))])"
   ]
  },
  {
   "cell_type": "code",
   "execution_count": 42,
   "metadata": {},
   "outputs": [
    {
     "name": "stdout",
     "output_type": "stream",
     "text": [
      "QDA2: 0.000000 (0.000000)\n",
      "GPC2: 0.000000 (0.000000)\n",
      "KNN2: 0.616667 (0.187083)\n",
      "DTC2: 0.383333 (0.233333)\n",
      "GNB2: 0.616667 (0.187083)\n",
      "SVM2: 1.000000 (0.000000)\n",
      "ABC2: 0.466667 (0.281859)\n",
      "MLP2: 0.050000 (0.100000)\n",
      "LR2: 0.583333 (0.333333)\n",
      "rid2: 0.600000 (0.161589)\n"
     ]
    },
    {
     "data": {
      "image/png": "[encoded data removed]",
      "text/plain": [
       "<Figure size 432x288 with 1 Axes>"
      ]
     },
     "metadata": {},
     "output_type": "display_data"
    }
   ],
   "source": [
    "\n",
    "models = []\n",
    "models.append(('QDA2', qda_pipe))\n",
    "models.append(('GPC2', gpc_pipe))\n",
    "models.append(('KNN2', knn_pipe))\n",
    "models.append(('DTC2', dtc_pipe))\n",
    "models.append(('GNB2', gnb_pipe))\n",
    "models.append(('SVM2', svc_pipe))\n",
    "models.append(('ABC2', abc_pipe))\n",
    "models.append(('MLP2', mlp_pipe))\n",
    "models.append(('LR2', lr_pipe))\n",
    "models.append(('rid2', rid_pipe))\n",
    "\n",
    "\n",
    "\n",
    "# test and plot all models in models list\n",
    "def test_models(models, data, target):\n",
    "    results = []\n",
    "    names = []\n",
    "    scoring = 'recall'\n",
    "\n",
    "    for name, model in models:\n",
    "        kfold = StratifiedKFold(n_splits=5, random_state=SEED)\n",
    "        cv_results = model_selection.cross_val_score(model, data, target, cv=kfold, scoring=scoring)\n",
    "        results.append(cv_results)\n",
    "        names.append(name)\n",
    "        msg = \"%s: %f (%f)\" % (name, cv_results.mean(), cv_results.std())\n",
    "        print(msg)\n",
    "        #classification_metrics(y_val, rfc_pred)\n",
    "\n",
    "    # boxplot algorithm comparison\n",
    "    fig = plt.figure()\n",
    "    fig.suptitle('Algorithm Comparison')\n",
    "    ax = fig.add_subplot(111)\n",
    "    plt.boxplot(results)\n",
    "    ax.set_xticklabels(names)\n",
    "    plt.show()\n",
    "\n",
    "\n",
    "#run test    \n",
    "test_models(models, df, y)"
   ]
  },
  {
   "cell_type": "code",
   "execution_count": 43,
   "metadata": {},
   "outputs": [],
   "source": [
    "### Test on fast Tester"
   ]
  },
  {
   "cell_type": "code",
   "execution_count": 44,
   "metadata": {},
   "outputs": [
    {
     "data": {
      "text/plain": [
       "array(['poi', 'salary', 'to_messages', 'deferral_payments',\n",
       "       'total_payments', 'exercised_stock_options', 'bonus',\n",
       "       'restricted_stock', 'shared_receipt_with_poi',\n",
       "       'restricted_stock_deferred', 'total_stock_value', 'expenses',\n",
       "       'loan_advances', 'from_messages', 'other',\n",
       "       'from_this_person_to_poi', 'director_fees', 'deferred_income',\n",
       "       'long_term_incentive', 'from_poi_to_this_person'], dtype=object)"
      ]
     },
     "execution_count": 44,
     "metadata": {},
     "output_type": "execute_result"
    }
   ],
   "source": [
    "df_all.columns.values"
   ]
  },
  {
   "cell_type": "code",
   "execution_count": 45,
   "metadata": {},
   "outputs": [
    {
     "name": "stdout",
     "output_type": "stream",
     "text": [
      "Pipeline(memory=None,\n",
      "     steps=[('kBest', SelectKBest(k=19, score_func=<function f_classif at 0x000000000C648A58>)), ('ols', StudentizedOLSClassifier(threshold=1.04))])\n",
      "\tAccuracy: 0.86631\tPrecision: 0.56492\tRecall: 0.57000\tF1: 0.56745\tF2: 0.56898\n",
      "\tTotal predictions: 13000\tTrue positives: 1140\tFalse positives:  878\tFalse negatives:  860\tTrue negatives: 10122\n",
      "\n"
     ]
    }
   ],
   "source": [
    " # ols pipe smt\n",
    "k = 19\n",
    "ols_m = StudentizedOLSClassifier(1.04) \n",
    "#model = Pipeline([('fpr', SelectFpr()),  ('ols', ols_m)]) \n",
    "model = Pipeline([  ('kBest', SelectKBest( k = k)), ('ols', ols_m)])\n",
    "#model = Pipeline([ ('smt', smt),  ('ols', ols_m)])\n",
    "#model = ols_m\n",
    "feat, dat = tester_prep(df_all)\n",
    "test_classifier(model, dat, feat)\n"
   ]
  },
  {
   "cell_type": "code",
   "execution_count": 46,
   "metadata": {},
   "outputs": [
    {
     "name": "stdout",
     "output_type": "stream",
     "text": [
      "Pipeline(memory=None,\n",
      "     steps=[('smt', SMOTE(k=None, k_neighbors=5, kind='regular', m=None, m_neighbors=10, n_jobs=1,\n",
      "   out_step=0.5, random_state=5678, ratio='auto', svm_estimator=None)), ('gnb', GaussianNB(priors=None))])\n",
      "\tAccuracy: 0.73077\tPrecision: 0.29167\tRecall: 0.52500\tF1: 0.37500\tF2: 0.45259\n",
      "\tTotal predictions:  260\tTrue positives:   21\tFalse positives:   51\tFalse negatives:   19\tTrue negatives:  169\n",
      "\n"
     ]
    }
   ],
   "source": [
    "# Fast TESTER with pipe\n",
    "model = gnb_pipe\n",
    "feat, dat = tester_prep(df_all)\n",
    "test_classifier_fast(model, dat, feat)"
   ]
  },
  {
   "cell_type": "code",
   "execution_count": 47,
   "metadata": {},
   "outputs": [
    {
     "name": "stdout",
     "output_type": "stream",
     "text": [
      "Pipeline(memory=None,\n",
      "     steps=[('smt', SMOTE(k=None, k_neighbors=5, kind='regular', m=None, m_neighbors=10, n_jobs=1,\n",
      "   out_step=0.5, random_state=5678, ratio='auto', svm_estimator=None)), ('abc', AdaBoostClassifier(algorithm='SAMME.R', base_estimator=None,\n",
      "          learning_rate=1.0, n_estimators=50, random_state=5678))])\n",
      "\tAccuracy: 0.81923\tPrecision: 0.41463\tRecall: 0.42500\tF1: 0.41975\tF2: 0.42289\n",
      "\tTotal predictions:  260\tTrue positives:   17\tFalse positives:   24\tFalse negatives:   23\tTrue negatives:  196\n",
      "\n"
     ]
    }
   ],
   "source": [
    "# Fast TESTER with pipe\n",
    "model = abc_pipe\n",
    "feat, dat = tester_prep(df_all)\n",
    "test_classifier_fast(model, dat, feat)"
   ]
  },
  {
   "cell_type": "code",
   "execution_count": 48,
   "metadata": {},
   "outputs": [
    {
     "name": "stdout",
     "output_type": "stream",
     "text": [
      "Pipeline(memory=None,\n",
      "     steps=[('smt', SMOTE(k=None, k_neighbors=5, kind='regular', m=None, m_neighbors=10, n_jobs=1,\n",
      "   out_step=0.5, random_state=5678, ratio='auto', svm_estimator=None)), ('dtc', DecisionTreeClassifier(class_weight=None, criterion='gini', max_depth=None,\n",
      "            max_features=None, max_leaf_nodes=None...      min_weight_fraction_leaf=0.0, presort=False, random_state=5678,\n",
      "            splitter='best'))])\n",
      "\tAccuracy: 0.78462\tPrecision: 0.31818\tRecall: 0.35000\tF1: 0.33333\tF2: 0.34314\n",
      "\tTotal predictions:  260\tTrue positives:   14\tFalse positives:   30\tFalse negatives:   26\tTrue negatives:  190\n",
      "\n"
     ]
    }
   ],
   "source": [
    "# Fast TESTER with pipe\n",
    "model = dtc_pipe\n",
    "feat, dat = tester_prep(df_all)\n",
    "test_classifier_fast(model, dat, feat)"
   ]
  },
  {
   "cell_type": "code",
   "execution_count": 49,
   "metadata": {},
   "outputs": [
    {
     "name": "stdout",
     "output_type": "stream",
     "text": [
      "Pipeline(memory=None,\n",
      "     steps=[('smt', SMOTE(k=None, k_neighbors=5, kind='regular', m=None, m_neighbors=10, n_jobs=1,\n",
      "   out_step=0.5, random_state=5678, ratio='auto', svm_estimator=None)), ('rid', RidgeClassifier(alpha=1.0, class_weight=None, copy_X=True, fit_intercept=True,\n",
      "        max_iter=None, normalize=False, random_state=5678, solver='auto',\n",
      "        tol=0.001))])\n",
      "\tAccuracy: 0.84615\tPrecision: 0.50000\tRecall: 0.65000\tF1: 0.56522\tF2: 0.61321\n",
      "\tTotal predictions:  260\tTrue positives:   26\tFalse positives:   26\tFalse negatives:   14\tTrue negatives:  194\n",
      "\n"
     ]
    }
   ],
   "source": [
    "# Fast TESTER with pipe\n",
    "model = rid_pipe\n",
    "feat, dat = tester_prep(df_all)\n",
    "test_classifier_fast(model, dat, feat)"
   ]
  },
  {
   "cell_type": "code",
   "execution_count": 50,
   "metadata": {},
   "outputs": [
    {
     "name": "stdout",
     "output_type": "stream",
     "text": [
      "Pipeline(memory=None,\n",
      "     steps=[('smt', SMOTE(k=None, k_neighbors=5, kind='regular', m=None, m_neighbors=10, n_jobs=1,\n",
      "   out_step=0.5, random_state=5678, ratio='auto', svm_estimator=None)), ('lr', LogisticRegression(C=1.0, class_weight=None, dual=False, fit_intercept=True,\n",
      "          intercept_scaling=1, max_iter=100, multi_class='ovr', n_jobs=1,\n",
      "          penalty='l2', random_state=5678, solver='liblinear', tol=0.0001,\n",
      "          verbose=0, warm_start=False))])\n",
      "\tAccuracy: 0.66154\tPrecision: 0.22093\tRecall: 0.47500\tF1: 0.30159\tF2: 0.38618\n",
      "\tTotal predictions:  260\tTrue positives:   19\tFalse positives:   67\tFalse negatives:   21\tTrue negatives:  153\n",
      "\n"
     ]
    }
   ],
   "source": [
    "# Fast TESTER with pipe\n",
    "model = lr_pipe\n",
    "feat, dat = tester_prep(df_all)\n",
    "test_classifier_fast(model, dat, feat)"
   ]
  },
  {
   "cell_type": "code",
   "execution_count": 51,
   "metadata": {},
   "outputs": [
    {
     "name": "stdout",
     "output_type": "stream",
     "text": [
      "Got a divide by zero when trying out: Pipeline(memory=None,\n",
      "     steps=[('smt', SMOTE(k=None, k_neighbors=5, kind='regular', m=None, m_neighbors=10, n_jobs=1,\n",
      "   out_step=0.5, random_state=5678, ratio='auto', svm_estimator=None)), ('gpc', GaussianProcessClassifier(copy_X_train=True,\n",
      "             kernel=1**2 * RBF(length_scale=1), max_iter_predict=100,\n",
      "             multi_class='one_vs_rest', n_jobs=1, n_restarts_optimizer=0,\n",
      "             optimizer='fmin_l_bfgs_b', random_state=5678,\n",
      "             warm_start=False))])\n",
      "Precision or recall may be undefined due to a lack of true positive predicitons.\n"
     ]
    }
   ],
   "source": [
    "# Fast TESTER with pipe\n",
    "model = gpc_pipe\n",
    "feat, dat = tester_prep(df_all)\n",
    "test_classifier_fast(model, dat, feat)"
   ]
  },
  {
   "cell_type": "code",
   "execution_count": 52,
   "metadata": {},
   "outputs": [
    {
     "name": "stdout",
     "output_type": "stream",
     "text": [
      "Pipeline(memory=None,\n",
      "     steps=[('smt', SMOTE(k=None, k_neighbors=5, kind='regular', m=None, m_neighbors=10, n_jobs=1,\n",
      "   out_step=0.5, random_state=5678, ratio='auto', svm_estimator=None)), ('knn', KNeighborsClassifier(algorithm='auto', leaf_size=30, metric='minkowski',\n",
      "           metric_params=None, n_jobs=1, n_neighbors=5, p=2,\n",
      "           weights='uniform'))])\n",
      "\tAccuracy: 0.73846\tPrecision: 0.30556\tRecall: 0.55000\tF1: 0.39286\tF2: 0.47414\n",
      "\tTotal predictions:  260\tTrue positives:   22\tFalse positives:   50\tFalse negatives:   18\tTrue negatives:  170\n",
      "\n"
     ]
    }
   ],
   "source": [
    "# Fast TESTER with pipe\n",
    "model = knn_pipe\n",
    "feat, dat = tester_prep(df_all)\n",
    "test_classifier_fast(model, dat, feat)"
   ]
  },
  {
   "cell_type": "code",
   "execution_count": 53,
   "metadata": {},
   "outputs": [
    {
     "name": "stdout",
     "output_type": "stream",
     "text": [
      "RidgeClassifier(alpha=1.0, class_weight=None, copy_X=True, fit_intercept=True,\n",
      "        max_iter=None, normalize=False, random_state=5678, solver='auto',\n",
      "        tol=0.001)\n",
      "\tAccuracy: 0.86923\tPrecision: 0.65000\tRecall: 0.32500\tF1: 0.43333\tF2: 0.36111\n",
      "\tTotal predictions:  260\tTrue positives:   13\tFalse positives:    7\tFalse negatives:   27\tTrue negatives:  213\n",
      "\n"
     ]
    }
   ],
   "source": [
    "# Fast TESTER NO pipe\n",
    "model = RidgeClassifier(random_state = SEED)\n",
    "feat, dat = tester_prep(df_all)\n",
    "test_classifier_fast(model, dat, feat)"
   ]
  },
  {
   "cell_type": "markdown",
   "metadata": {},
   "source": [
    "# Grid Search"
   ]
  },
  {
   "cell_type": "markdown",
   "metadata": {},
   "source": [
    "### Create a df with SMOTE for Grid Search"
   ]
  },
  {
   "cell_type": "code",
   "execution_count": 54,
   "metadata": {},
   "outputs": [
    {
     "data": {
      "text/html": [
       "<div>\n",
       "<style scoped>\n",
       "    .dataframe tbody tr th:only-of-type {\n",
       "        vertical-align: middle;\n",
       "    }\n",
       "\n",
       "    .dataframe tbody tr th {\n",
       "        vertical-align: top;\n",
       "    }\n",
       "\n",
       "    .dataframe thead th {\n",
       "        text-align: right;\n",
       "    }\n",
       "</style>\n",
       "<table border=\"1\" class=\"dataframe\">\n",
       "  <thead>\n",
       "    <tr style=\"text-align: right;\">\n",
       "      <th></th>\n",
       "      <th>salary</th>\n",
       "      <th>to_messages</th>\n",
       "      <th>deferral_payments</th>\n",
       "      <th>total_payments</th>\n",
       "      <th>exercised_stock_options</th>\n",
       "      <th>bonus</th>\n",
       "      <th>restricted_stock</th>\n",
       "      <th>shared_receipt_with_poi</th>\n",
       "      <th>restricted_stock_deferred</th>\n",
       "      <th>total_stock_value</th>\n",
       "      <th>expenses</th>\n",
       "      <th>loan_advances</th>\n",
       "      <th>from_messages</th>\n",
       "      <th>other</th>\n",
       "      <th>from_this_person_to_poi</th>\n",
       "      <th>director_fees</th>\n",
       "      <th>deferred_income</th>\n",
       "      <th>long_term_incentive</th>\n",
       "      <th>from_poi_to_this_person</th>\n",
       "    </tr>\n",
       "  </thead>\n",
       "  <tbody>\n",
       "    <tr>\n",
       "      <th>0</th>\n",
       "      <td>201955.0</td>\n",
       "      <td>2902.0</td>\n",
       "      <td>2869717.0</td>\n",
       "      <td>4484442.0</td>\n",
       "      <td>1729541.0</td>\n",
       "      <td>4175000.0</td>\n",
       "      <td>126027.0</td>\n",
       "      <td>1407.0</td>\n",
       "      <td>-126027.0</td>\n",
       "      <td>1729541.0</td>\n",
       "      <td>13868.0</td>\n",
       "      <td>0.0</td>\n",
       "      <td>2195.0</td>\n",
       "      <td>152.0</td>\n",
       "      <td>65.0</td>\n",
       "      <td>0.0</td>\n",
       "      <td>-3081055.0</td>\n",
       "      <td>304805.0</td>\n",
       "      <td>47.0</td>\n",
       "    </tr>\n",
       "    <tr>\n",
       "      <th>1</th>\n",
       "      <td>0.0</td>\n",
       "      <td>0.0</td>\n",
       "      <td>178980.0</td>\n",
       "      <td>182466.0</td>\n",
       "      <td>257817.0</td>\n",
       "      <td>0.0</td>\n",
       "      <td>0.0</td>\n",
       "      <td>0.0</td>\n",
       "      <td>0.0</td>\n",
       "      <td>257817.0</td>\n",
       "      <td>3486.0</td>\n",
       "      <td>0.0</td>\n",
       "      <td>0.0</td>\n",
       "      <td>0.0</td>\n",
       "      <td>0.0</td>\n",
       "      <td>0.0</td>\n",
       "      <td>0.0</td>\n",
       "      <td>0.0</td>\n",
       "      <td>0.0</td>\n",
       "    </tr>\n",
       "    <tr>\n",
       "      <th>2</th>\n",
       "      <td>477.0</td>\n",
       "      <td>566.0</td>\n",
       "      <td>0.0</td>\n",
       "      <td>916197.0</td>\n",
       "      <td>4046157.0</td>\n",
       "      <td>0.0</td>\n",
       "      <td>1757552.0</td>\n",
       "      <td>465.0</td>\n",
       "      <td>-560222.0</td>\n",
       "      <td>5243487.0</td>\n",
       "      <td>56301.0</td>\n",
       "      <td>0.0</td>\n",
       "      <td>29.0</td>\n",
       "      <td>864523.0</td>\n",
       "      <td>0.0</td>\n",
       "      <td>0.0</td>\n",
       "      <td>-5104.0</td>\n",
       "      <td>0.0</td>\n",
       "      <td>39.0</td>\n",
       "    </tr>\n",
       "    <tr>\n",
       "      <th>3</th>\n",
       "      <td>267102.0</td>\n",
       "      <td>0.0</td>\n",
       "      <td>1295738.0</td>\n",
       "      <td>5634343.0</td>\n",
       "      <td>6680544.0</td>\n",
       "      <td>1200000.0</td>\n",
       "      <td>3942714.0</td>\n",
       "      <td>0.0</td>\n",
       "      <td>0.0</td>\n",
       "      <td>10623258.0</td>\n",
       "      <td>11200.0</td>\n",
       "      <td>0.0</td>\n",
       "      <td>0.0</td>\n",
       "      <td>2660303.0</td>\n",
       "      <td>0.0</td>\n",
       "      <td>0.0</td>\n",
       "      <td>-1386055.0</td>\n",
       "      <td>1586055.0</td>\n",
       "      <td>0.0</td>\n",
       "    </tr>\n",
       "    <tr>\n",
       "      <th>4</th>\n",
       "      <td>239671.0</td>\n",
       "      <td>0.0</td>\n",
       "      <td>260455.0</td>\n",
       "      <td>827696.0</td>\n",
       "      <td>0.0</td>\n",
       "      <td>400000.0</td>\n",
       "      <td>145796.0</td>\n",
       "      <td>0.0</td>\n",
       "      <td>-82782.0</td>\n",
       "      <td>63014.0</td>\n",
       "      <td>129142.0</td>\n",
       "      <td>0.0</td>\n",
       "      <td>0.0</td>\n",
       "      <td>69.0</td>\n",
       "      <td>0.0</td>\n",
       "      <td>0.0</td>\n",
       "      <td>-201641.0</td>\n",
       "      <td>0.0</td>\n",
       "      <td>0.0</td>\n",
       "    </tr>\n",
       "  </tbody>\n",
       "</table>\n",
       "</div>"
      ],
      "text/plain": [
       "     salary  to_messages  deferral_payments  total_payments  \\\n",
       "0  201955.0       2902.0          2869717.0       4484442.0   \n",
       "1       0.0          0.0           178980.0        182466.0   \n",
       "2     477.0        566.0                0.0        916197.0   \n",
       "3  267102.0          0.0          1295738.0       5634343.0   \n",
       "4  239671.0          0.0           260455.0        827696.0   \n",
       "\n",
       "   exercised_stock_options      bonus  restricted_stock  \\\n",
       "0                1729541.0  4175000.0          126027.0   \n",
       "1                 257817.0        0.0               0.0   \n",
       "2                4046157.0        0.0         1757552.0   \n",
       "3                6680544.0  1200000.0         3942714.0   \n",
       "4                      0.0   400000.0          145796.0   \n",
       "\n",
       "   shared_receipt_with_poi  restricted_stock_deferred  total_stock_value  \\\n",
       "0                   1407.0                  -126027.0          1729541.0   \n",
       "1                      0.0                        0.0           257817.0   \n",
       "2                    465.0                  -560222.0          5243487.0   \n",
       "3                      0.0                        0.0         10623258.0   \n",
       "4                      0.0                   -82782.0            63014.0   \n",
       "\n",
       "   expenses  loan_advances  from_messages      other  from_this_person_to_poi  \\\n",
       "0   13868.0            0.0         2195.0      152.0                     65.0   \n",
       "1    3486.0            0.0            0.0        0.0                      0.0   \n",
       "2   56301.0            0.0           29.0   864523.0                      0.0   \n",
       "3   11200.0            0.0            0.0  2660303.0                      0.0   \n",
       "4  129142.0            0.0            0.0       69.0                      0.0   \n",
       "\n",
       "   director_fees  deferred_income  long_term_incentive  \\\n",
       "0            0.0       -3081055.0             304805.0   \n",
       "1            0.0              0.0                  0.0   \n",
       "2            0.0          -5104.0                  0.0   \n",
       "3            0.0       -1386055.0            1586055.0   \n",
       "4            0.0        -201641.0                  0.0   \n",
       "\n",
       "   from_poi_to_this_person  \n",
       "0                     47.0  \n",
       "1                      0.0  \n",
       "2                     39.0  \n",
       "3                      0.0  \n",
       "4                      0.0  "
      ]
     },
     "execution_count": 54,
     "metadata": {},
     "output_type": "execute_result"
    }
   ],
   "source": [
    "data_smote, y_smote =smt.fit_sample(df, y)\n",
    "col = df.columns.values\n",
    "df_smote = pd.DataFrame(data_smote, columns = col)\n",
    "df_smote.head()"
   ]
  },
  {
   "cell_type": "code",
   "execution_count": 55,
   "metadata": {},
   "outputs": [
    {
     "data": {
      "text/html": [
       "<div>\n",
       "<style scoped>\n",
       "    .dataframe tbody tr th:only-of-type {\n",
       "        vertical-align: middle;\n",
       "    }\n",
       "\n",
       "    .dataframe tbody tr th {\n",
       "        vertical-align: top;\n",
       "    }\n",
       "\n",
       "    .dataframe thead th {\n",
       "        text-align: right;\n",
       "    }\n",
       "</style>\n",
       "<table border=\"1\" class=\"dataframe\">\n",
       "  <thead>\n",
       "    <tr style=\"text-align: right;\">\n",
       "      <th></th>\n",
       "      <th>poi</th>\n",
       "    </tr>\n",
       "  </thead>\n",
       "  <tbody>\n",
       "    <tr>\n",
       "      <th>count</th>\n",
       "      <td>226</td>\n",
       "    </tr>\n",
       "    <tr>\n",
       "      <th>unique</th>\n",
       "      <td>2</td>\n",
       "    </tr>\n",
       "    <tr>\n",
       "      <th>top</th>\n",
       "      <td>True</td>\n",
       "    </tr>\n",
       "    <tr>\n",
       "      <th>freq</th>\n",
       "      <td>113</td>\n",
       "    </tr>\n",
       "  </tbody>\n",
       "</table>\n",
       "</div>"
      ],
      "text/plain": [
       "         poi\n",
       "count    226\n",
       "unique     2\n",
       "top     True\n",
       "freq     113"
      ]
     },
     "execution_count": 55,
     "metadata": {},
     "output_type": "execute_result"
    }
   ],
   "source": [
    "y_col = ['poi']\n",
    "y_smote_df = pd.DataFrame(y_smote, columns = y_col)\n",
    "y_smote_df.describe()"
   ]
  },
  {
   "cell_type": "markdown",
   "metadata": {},
   "source": [
    "### AdaBoost"
   ]
  },
  {
   "cell_type": "code",
   "execution_count": 56,
   "metadata": {},
   "outputs": [
    {
     "name": "stdout",
     "output_type": "stream",
     "text": [
      "Fitting 5 folds for each of 12 candidates, totalling 60 fits\n"
     ]
    },
    {
     "name": "stderr",
     "output_type": "stream",
     "text": [
      "[Parallel(n_jobs=6)]: Done  38 tasks      | elapsed:    5.9s\n",
      "[Parallel(n_jobs=6)]: Done  60 out of  60 | elapsed:    6.8s finished\n"
     ]
    }
   ],
   "source": [
    "abc_cv = AdaBoostClassifier(random_state = SEED)\n",
    "\n",
    "abc_grid = {'n_estimators' : [50, 75, 100, 150],\n",
    "            'learning_rate': [0.1, 0.2, 0.5]            \n",
    "            }\n",
    "\n",
    "scoring = \"f1\"\n",
    "\n",
    "gs_abc = GridSearchCV(abc_cv,\n",
    "                     param_grid=abc_grid,\n",
    "                     scoring=scoring, cv=5, n_jobs= 6, verbose = 1)\n",
    "\n",
    "gs_abc.fit(df_smote, y_smote)\n",
    "results = gs_abc.cv_results_"
   ]
  },
  {
   "cell_type": "code",
   "execution_count": 57,
   "metadata": {},
   "outputs": [
    {
     "name": "stdout",
     "output_type": "stream",
     "text": [
      "Best kfold score: 0.919923490194\n",
      "Best kfold parameters: {'n_estimators': 150, 'learning_rate': 0.5}\n"
     ]
    }
   ],
   "source": [
    "print('Best kfold score: {}'.format(gs_abc.best_score_))\n",
    "print('Best kfold parameters: {}'.format(gs_abc.best_params_))"
   ]
  },
  {
   "cell_type": "code",
   "execution_count": 58,
   "metadata": {},
   "outputs": [],
   "source": [
    "# abc_m = AdaBoostClassifier(n_estimators = 150,\n",
    "#                            learning_rate = 0.5,\n",
    "#                            random_state = SEED)\n",
    "abc_m = AdaBoostClassifier()"
   ]
  },
  {
   "cell_type": "code",
   "execution_count": 59,
   "metadata": {},
   "outputs": [
    {
     "name": "stdout",
     "output_type": "stream",
     "text": [
      "Pipeline(memory=None,\n",
      "     steps=[('smt', SMOTE(k=None, k_neighbors=5, kind='regular', m=None, m_neighbors=10, n_jobs=1,\n",
      "   out_step=0.5, random_state=5678, ratio='auto', svm_estimator=None)), ('abc', AdaBoostClassifier(algorithm='SAMME.R', base_estimator=None,\n",
      "          learning_rate=1.0, n_estimators=50, random_state=None))])\n",
      "\tAccuracy: 0.81923\tPrecision: 0.41463\tRecall: 0.42500\tF1: 0.41975\tF2: 0.42289\n",
      "\tTotal predictions:  260\tTrue positives:   17\tFalse positives:   24\tFalse negatives:   23\tTrue negatives:  196\n",
      "\n"
     ]
    }
   ],
   "source": [
    "# Fast TESTER with pipe\n",
    "model = Pipeline([('smt', smt),  ('abc', abc_m)])\n",
    "feat, dat = tester_prep(df_all)\n",
    "test_classifier_fast(model, dat, feat)"
   ]
  },
  {
   "cell_type": "markdown",
   "metadata": {},
   "source": [
    "### Ridge"
   ]
  },
  {
   "cell_type": "code",
   "execution_count": 60,
   "metadata": {},
   "outputs": [
    {
     "name": "stdout",
     "output_type": "stream",
     "text": [
      "Fitting 5 folds for each of 16 candidates, totalling 80 fits\n"
     ]
    },
    {
     "name": "stderr",
     "output_type": "stream",
     "text": [
      "[Parallel(n_jobs=6)]: Done  38 tasks      | elapsed:    4.6s\n",
      "[Parallel(n_jobs=6)]: Done  80 out of  80 | elapsed:    4.7s finished\n"
     ]
    }
   ],
   "source": [
    "rid_cv = RidgeClassifier( random_state=SEED)\n",
    "\n",
    "rid_grid = {'alpha' : [0.2, 0.5, 1, 1.5, 2, 3, 4, 10],\n",
    "            'normalize' : [True, False]\n",
    "           }\n",
    "\n",
    "scoring = \"f1\"\n",
    "\n",
    "gs_rid = GridSearchCV(rid_cv,\n",
    "                     param_grid=rid_grid,\n",
    "                     scoring=scoring, cv=5, n_jobs= 6, verbose = 1)\n",
    "\n",
    "gs_rid.fit(df_smote, y_smote)\n",
    "results = gs_rid.cv_results_"
   ]
  },
  {
   "cell_type": "code",
   "execution_count": 61,
   "metadata": {},
   "outputs": [
    {
     "name": "stdout",
     "output_type": "stream",
     "text": [
      "Best kfold score: 0.863264717199\n",
      "Best kfold parameters: {'normalize': False, 'alpha': 0.2}\n"
     ]
    }
   ],
   "source": [
    "print('Best kfold score: {}'.format(gs_rid.best_score_))\n",
    "print('Best kfold parameters: {}'.format(gs_rid.best_params_))"
   ]
  },
  {
   "cell_type": "code",
   "execution_count": 94,
   "metadata": {},
   "outputs": [
    {
     "name": "stdout",
     "output_type": "stream",
     "text": [
      "Pipeline(memory=None,\n",
      "     steps=[('smt', SMOTE(k=None, k_neighbors=7, kind='regular', m=None, m_neighbors=10, n_jobs=1,\n",
      "   out_step=0.5, random_state=5678, ratio='auto', svm_estimator=None)), ('rid', RidgeClassifier(alpha=0.2, class_weight=None, copy_X=True, fit_intercept=True,\n",
      "        max_iter=None, normalize=False, random_state=5678, solver='auto',\n",
      "        tol=0.001))])\n",
      "\tAccuracy: 0.83077\tPrecision: 0.46296\tRecall: 0.62500\tF1: 0.53191\tF2: 0.58411\n",
      "\tTotal predictions:  260\tTrue positives:   25\tFalse positives:   29\tFalse negatives:   15\tTrue negatives:  191\n",
      "\n"
     ]
    }
   ],
   "source": [
    "# Fast TESTER with pipe\n",
    "rid_m = RidgeClassifier( alpha = 0.2, random_state=SEED)\n",
    "\n",
    "model = Pipeline([('smt', smt),  ('rid', rid_m)])\n",
    "feat, dat = tester_prep(df_all)\n",
    "test_classifier_fast(model, dat, feat)"
   ]
  },
  {
   "cell_type": "markdown",
   "metadata": {},
   "source": [
    "### Logistic Regression"
   ]
  },
  {
   "cell_type": "code",
   "execution_count": 63,
   "metadata": {},
   "outputs": [
    {
     "name": "stdout",
     "output_type": "stream",
     "text": [
      "Fitting 10 folds for each of 24 candidates, totalling 240 fits\n"
     ]
    },
    {
     "name": "stderr",
     "output_type": "stream",
     "text": [
      "[Parallel(n_jobs=6)]: Done  38 tasks      | elapsed:    5.9s\n",
      "[Parallel(n_jobs=6)]: Done 240 out of 240 | elapsed:   15.9s finished\n"
     ]
    }
   ],
   "source": [
    "log_reg_m = LogisticRegression(random_state = SEED)\n",
    "\n",
    "log_grid = {#'penalty' : ['l1', 'l2', 'elasticnet', 'none'],\n",
    "            'C' : [0.5, 1, 1.5],\n",
    "            'max_iter' : [ 1000, 1500, 2000, 3000],\n",
    "            'solver' : ['newton-cg', 'liblinear'] # 'liblinear', , 'saga'\n",
    "           }\n",
    "\n",
    "scoring = \"f1\"\n",
    "\n",
    "gs_lr = GridSearchCV(log_reg_m,\n",
    "                     param_grid=log_grid,\n",
    "                     scoring=scoring, cv=10, n_jobs= 6, verbose = 1)\n",
    "\n",
    "gs_lr.fit(df_smote, y_smote)\n",
    "results = gs_lr.cv_results_"
   ]
  },
  {
   "cell_type": "code",
   "execution_count": 64,
   "metadata": {},
   "outputs": [
    {
     "name": "stdout",
     "output_type": "stream",
     "text": [
      "Best kfold score: 0.904712527525\n",
      "Best kfold parameters: {'C': 0.5, 'max_iter': 1000, 'solver': 'newton-cg'}\n"
     ]
    }
   ],
   "source": [
    "print('Best kfold score: {}'.format(gs_lr.best_score_))\n",
    "print('Best kfold parameters: {}'.format(gs_lr.best_params_))"
   ]
  },
  {
   "cell_type": "code",
   "execution_count": 65,
   "metadata": {},
   "outputs": [
    {
     "name": "stdout",
     "output_type": "stream",
     "text": [
      "Pipeline(memory=None,\n",
      "     steps=[('smt', SMOTE(k=None, k_neighbors=5, kind='regular', m=None, m_neighbors=10, n_jobs=1,\n",
      "   out_step=0.5, random_state=5678, ratio='auto', svm_estimator=None)), ('log', LogisticRegression(C=1.5, class_weight=None, dual=False, fit_intercept=True,\n",
      "          intercept_scaling=1, max_iter=1000, multi_class='ovr', n_jobs=1,\n",
      "          penalty='l2', random_state=5678, solver='newton-cg', tol=0.0001,\n",
      "          verbose=0, warm_start=False))])\n",
      "\tAccuracy: 0.83077\tPrecision: 0.46429\tRecall: 0.65000\tF1: 0.54167\tF2: 0.60185\n",
      "\tTotal predictions:  260\tTrue positives:   26\tFalse positives:   30\tFalse negatives:   14\tTrue negatives:  190\n",
      "\n"
     ]
    }
   ],
   "source": [
    "logR_m = LogisticRegression(C = 1.5,\n",
    "                            max_iter = 1000,\n",
    "                            solver = 'newton-cg',\n",
    "                            random_state = SEED)\n",
    "# Fast TESTER with pipe\n",
    "model = Pipeline([('smt', smt),  ('log', logR_m)])\n",
    "feat, dat = tester_prep(df_all)\n",
    "test_classifier_fast(model, dat, feat)"
   ]
  },
  {
   "cell_type": "markdown",
   "metadata": {},
   "source": [
    "### GaussianProcessClassifier"
   ]
  },
  {
   "cell_type": "code",
   "execution_count": 66,
   "metadata": {},
   "outputs": [
    {
     "name": "stdout",
     "output_type": "stream",
     "text": [
      "Fitting 10 folds for each of 24 candidates, totalling 240 fits\n"
     ]
    },
    {
     "name": "stderr",
     "output_type": "stream",
     "text": [
      "[Parallel(n_jobs=6)]: Done  38 tasks      | elapsed:   16.5s\n",
      "[Parallel(n_jobs=6)]: Done 188 tasks      | elapsed:  2.3min\n",
      "[Parallel(n_jobs=6)]: Done 240 out of 240 | elapsed:  3.2min finished\n"
     ]
    }
   ],
   "source": [
    "gpc_m = GaussianProcessClassifier(1.0 * RBF(1.0),random_state = SEED)\n",
    "\n",
    "gpc_grid = {'n_restarts_optimizer' : [0,1,3,7],\n",
    "            'max_iter_predict' : [100, 300, 500],\n",
    "            'warm_start' : [ True, False]\n",
    "           }\n",
    "\n",
    "scoring = \"f1\"\n",
    "\n",
    "gs_gpc = GridSearchCV(gpc_m,\n",
    "                     param_grid=gpc_grid,\n",
    "                     scoring=scoring, cv=10, n_jobs= 6, verbose = 1)\n",
    "\n",
    "gs_gpc.fit(df_smote, y_smote)\n",
    "results = gs_gpc.cv_results_"
   ]
  },
  {
   "cell_type": "code",
   "execution_count": 67,
   "metadata": {},
   "outputs": [
    {
     "name": "stdout",
     "output_type": "stream",
     "text": [
      "Best kfold score: 0.853852860315\n",
      "Best kfold parameters: {'warm_start': True, 'max_iter_predict': 100, 'n_restarts_optimizer': 7}\n"
     ]
    }
   ],
   "source": [
    "print('Best kfold score: {}'.format(gs_gpc.best_score_))\n",
    "print('Best kfold parameters: {}'.format(gs_gpc.best_params_))"
   ]
  },
  {
   "cell_type": "code",
   "execution_count": 68,
   "metadata": {},
   "outputs": [
    {
     "name": "stdout",
     "output_type": "stream",
     "text": [
      "Got a divide by zero when trying out: Pipeline(memory=None,\n",
      "     steps=[('smt', SMOTE(k=None, k_neighbors=5, kind='regular', m=None, m_neighbors=10, n_jobs=1,\n",
      "   out_step=0.5, random_state=5678, ratio='auto', svm_estimator=None)), ('gpc', GaussianProcessClassifier(copy_X_train=True,\n",
      "             kernel=1**2 * RBF(length_scale=1), max_iter_predict=100,\n",
      "             multi_class='one_vs_rest', n_jobs=1, n_restarts_optimizer=0,\n",
      "             optimizer='fmin_l_bfgs_b', random_state=5678, warm_start=True))])\n",
      "Precision or recall may be undefined due to a lack of true positive predicitons.\n"
     ]
    }
   ],
   "source": [
    "gpc_m = GaussianProcessClassifier(1.0 * RBF(1.0),\n",
    "                                  warm_start = True,                                  \n",
    "                                  random_state = SEED)\n",
    "\n",
    "# Fast TESTER with pipe\n",
    "model = Pipeline([('smt', smt),  ('gpc', gpc_m)])\n",
    "feat, dat = tester_prep(df_all)\n",
    "test_classifier_fast(model, dat, feat)"
   ]
  },
  {
   "cell_type": "markdown",
   "metadata": {},
   "source": [
    "### KNN"
   ]
  },
  {
   "cell_type": "code",
   "execution_count": 69,
   "metadata": {},
   "outputs": [
    {
     "name": "stdout",
     "output_type": "stream",
     "text": [
      "Pipeline(memory=None,\n",
      "     steps=[('smt', SMOTE(k=None, k_neighbors=5, kind='regular', m=None, m_neighbors=10, n_jobs=1,\n",
      "   out_step=0.5, random_state=5678, ratio='auto', svm_estimator=None)), ('knn', KNeighborsClassifier(algorithm='auto', leaf_size=30, metric='minkowski',\n",
      "           metric_params=None, n_jobs=1, n_neighbors=5, p=2,\n",
      "           weights='uniform'))])\n",
      "\tAccuracy: 0.73846\tPrecision: 0.30556\tRecall: 0.55000\tF1: 0.39286\tF2: 0.47414\n",
      "\tTotal predictions:  260\tTrue positives:   22\tFalse positives:   50\tFalse negatives:   18\tTrue negatives:  170\n",
      "\n"
     ]
    }
   ],
   "source": [
    "# Fast TESTER with pipe\n",
    "nn = 5\n",
    "knn_pipe = Pipeline([('smt', smt),  ('knn', KNeighborsClassifier(n_neighbors = nn))])\n",
    "model = knn_pipe\n",
    "feat, dat = tester_prep(df_all)\n",
    "test_classifier_fast(model, dat, feat)"
   ]
  },
  {
   "cell_type": "markdown",
   "metadata": {},
   "source": [
    "<a id='features2'></a>\n",
    "# Create New Features"
   ]
  },
  {
   "cell_type": "markdown",
   "metadata": {},
   "source": [
    "### Predictions as Features"
   ]
  },
  {
   "cell_type": "code",
   "execution_count": 70,
   "metadata": {},
   "outputs": [],
   "source": [
    "smt = SMOTE(random_state = SEED)\n",
    "\n",
    "abc_pipe = Pipeline([('smt', smt),  ('abc', AdaBoostClassifier( random_state = SEED))])\n",
    "\n",
    "log_pipe = Pipeline([('smt', smt), ('logR', LogisticRegression(   C = 1.5,\n",
    "                                                    max_iter = 1000,\n",
    "                                                    solver = 'newton-cg',\n",
    "                                                    random_state = SEED))])\n",
    "\n",
    "rid_pipe = Pipeline([('smt', smt), ('rid', RidgeClassifier( alpha = 3, random_state=SEED))])\n",
    "\n",
    "gpc_pipe = Pipeline([ ('smt', smt), ('gpc', GaussianProcessClassifier(  1.0 * RBF(1.0),\n",
    "                                                          warm_start = False,                                  \n",
    "                                                          random_state = SEED))])\n",
    "\n",
    "knn_pipe = Pipeline([('smt', smt),  ('knn', KNeighborsClassifier(n_neighbors = 5,n_jobs = 6))])\n",
    "\n",
    "qda_pipe = Pipeline([ ('qda', QuadraticDiscriminantAnalysis())])\n",
    "\n",
    "mlp_pipe = Pipeline([('smt', smt),  ('lr', MLPClassifier( random_state = SEED, max_iter=1000))])\n",
    "\n",
    "dtc_pipe = Pipeline([('smt', smt),  ('dtc', DecisionTreeClassifier(random_state = SEED))])\n",
    "\n",
    "gnb_pipe = Pipeline([('smt', smt),  ('gnb', GaussianNB())])\n",
    "\n",
    "svc_pipe = Pipeline([('smt', smt),  ('svm', SVC(random_state = SEED))])"
   ]
  },
  {
   "cell_type": "code",
   "execution_count": 71,
   "metadata": {},
   "outputs": [],
   "source": [
    "\n",
    "models_feat = []\n",
    "\n",
    "#models_feat.append(('AdaBoost', abc_pipe))\n",
    "#models_feat.append(('LogReg', log_pipe))\n",
    "#models_feat.append(('RIDGE', rid_pipe))\n",
    "#models_feat.append(('GNB', gnb_pipe))\n",
    "#models_feat.append(('KNN', knn_pipe))\n",
    "#models_feat.append(('GaussPC', gpc_pipe))\n",
    "#models_feat.append(('DTC', dtc_pipe))\n",
    "#models_feat.append(('QDA', qda_pipe))"
   ]
  },
  {
   "cell_type": "code",
   "execution_count": 72,
   "metadata": {},
   "outputs": [],
   "source": [
    "meta_df = df_all.copy()\n",
    "meta_X = meta_df.copy()\n",
    "meta_y = meta_X['poi']\n",
    "meta_X.drop(['poi'], axis = 1, inplace = True)"
   ]
  },
  {
   "cell_type": "code",
   "execution_count": 73,
   "metadata": {},
   "outputs": [],
   "source": [
    "#write predictions to columns\n",
    "for name, model in models_feat:\n",
    "    meta_df[name] = fit_folds(model, meta_X, meta_y, n_folds = 5).astype(int)"
   ]
  },
  {
   "cell_type": "code",
   "execution_count": 74,
   "metadata": {},
   "outputs": [
    {
     "data": {
      "text/html": [
       "<div>\n",
       "<style scoped>\n",
       "    .dataframe tbody tr th:only-of-type {\n",
       "        vertical-align: middle;\n",
       "    }\n",
       "\n",
       "    .dataframe tbody tr th {\n",
       "        vertical-align: top;\n",
       "    }\n",
       "\n",
       "    .dataframe thead th {\n",
       "        text-align: right;\n",
       "    }\n",
       "</style>\n",
       "<table border=\"1\" class=\"dataframe\">\n",
       "  <thead>\n",
       "    <tr style=\"text-align: right;\">\n",
       "      <th></th>\n",
       "      <th>poi</th>\n",
       "      <th>salary</th>\n",
       "      <th>to_messages</th>\n",
       "      <th>deferral_payments</th>\n",
       "      <th>total_payments</th>\n",
       "      <th>exercised_stock_options</th>\n",
       "      <th>bonus</th>\n",
       "      <th>restricted_stock</th>\n",
       "      <th>shared_receipt_with_poi</th>\n",
       "      <th>restricted_stock_deferred</th>\n",
       "      <th>total_stock_value</th>\n",
       "      <th>expenses</th>\n",
       "      <th>loan_advances</th>\n",
       "      <th>from_messages</th>\n",
       "      <th>other</th>\n",
       "      <th>from_this_person_to_poi</th>\n",
       "      <th>director_fees</th>\n",
       "      <th>deferred_income</th>\n",
       "      <th>long_term_incentive</th>\n",
       "      <th>from_poi_to_this_person</th>\n",
       "    </tr>\n",
       "  </thead>\n",
       "  <tbody>\n",
       "    <tr>\n",
       "      <th>ALLEN PHILLIP K</th>\n",
       "      <td>False</td>\n",
       "      <td>201955.0</td>\n",
       "      <td>2902.0</td>\n",
       "      <td>2869717.0</td>\n",
       "      <td>4484442.0</td>\n",
       "      <td>1729541.0</td>\n",
       "      <td>4175000.0</td>\n",
       "      <td>126027.0</td>\n",
       "      <td>1407.0</td>\n",
       "      <td>-126027.0</td>\n",
       "      <td>1729541.0</td>\n",
       "      <td>13868.0</td>\n",
       "      <td>0.0</td>\n",
       "      <td>2195.0</td>\n",
       "      <td>152.0</td>\n",
       "      <td>65.0</td>\n",
       "      <td>0.0</td>\n",
       "      <td>-3081055.0</td>\n",
       "      <td>304805.0</td>\n",
       "      <td>47.0</td>\n",
       "    </tr>\n",
       "    <tr>\n",
       "      <th>BADUM JAMES P</th>\n",
       "      <td>False</td>\n",
       "      <td>0.0</td>\n",
       "      <td>0.0</td>\n",
       "      <td>178980.0</td>\n",
       "      <td>182466.0</td>\n",
       "      <td>257817.0</td>\n",
       "      <td>0.0</td>\n",
       "      <td>0.0</td>\n",
       "      <td>0.0</td>\n",
       "      <td>0.0</td>\n",
       "      <td>257817.0</td>\n",
       "      <td>3486.0</td>\n",
       "      <td>0.0</td>\n",
       "      <td>0.0</td>\n",
       "      <td>0.0</td>\n",
       "      <td>0.0</td>\n",
       "      <td>0.0</td>\n",
       "      <td>0.0</td>\n",
       "      <td>0.0</td>\n",
       "      <td>0.0</td>\n",
       "    </tr>\n",
       "    <tr>\n",
       "      <th>BANNANTINE JAMES M</th>\n",
       "      <td>False</td>\n",
       "      <td>477.0</td>\n",
       "      <td>566.0</td>\n",
       "      <td>0.0</td>\n",
       "      <td>916197.0</td>\n",
       "      <td>4046157.0</td>\n",
       "      <td>0.0</td>\n",
       "      <td>1757552.0</td>\n",
       "      <td>465.0</td>\n",
       "      <td>-560222.0</td>\n",
       "      <td>5243487.0</td>\n",
       "      <td>56301.0</td>\n",
       "      <td>0.0</td>\n",
       "      <td>29.0</td>\n",
       "      <td>864523.0</td>\n",
       "      <td>0.0</td>\n",
       "      <td>0.0</td>\n",
       "      <td>-5104.0</td>\n",
       "      <td>0.0</td>\n",
       "      <td>39.0</td>\n",
       "    </tr>\n",
       "    <tr>\n",
       "      <th>BAXTER JOHN C</th>\n",
       "      <td>False</td>\n",
       "      <td>267102.0</td>\n",
       "      <td>0.0</td>\n",
       "      <td>1295738.0</td>\n",
       "      <td>5634343.0</td>\n",
       "      <td>6680544.0</td>\n",
       "      <td>1200000.0</td>\n",
       "      <td>3942714.0</td>\n",
       "      <td>0.0</td>\n",
       "      <td>0.0</td>\n",
       "      <td>10623258.0</td>\n",
       "      <td>11200.0</td>\n",
       "      <td>0.0</td>\n",
       "      <td>0.0</td>\n",
       "      <td>2660303.0</td>\n",
       "      <td>0.0</td>\n",
       "      <td>0.0</td>\n",
       "      <td>-1386055.0</td>\n",
       "      <td>1586055.0</td>\n",
       "      <td>0.0</td>\n",
       "    </tr>\n",
       "    <tr>\n",
       "      <th>BAY FRANKLIN R</th>\n",
       "      <td>False</td>\n",
       "      <td>239671.0</td>\n",
       "      <td>0.0</td>\n",
       "      <td>260455.0</td>\n",
       "      <td>827696.0</td>\n",
       "      <td>0.0</td>\n",
       "      <td>400000.0</td>\n",
       "      <td>145796.0</td>\n",
       "      <td>0.0</td>\n",
       "      <td>-82782.0</td>\n",
       "      <td>63014.0</td>\n",
       "      <td>129142.0</td>\n",
       "      <td>0.0</td>\n",
       "      <td>0.0</td>\n",
       "      <td>69.0</td>\n",
       "      <td>0.0</td>\n",
       "      <td>0.0</td>\n",
       "      <td>-201641.0</td>\n",
       "      <td>0.0</td>\n",
       "      <td>0.0</td>\n",
       "    </tr>\n",
       "  </tbody>\n",
       "</table>\n",
       "</div>"
      ],
      "text/plain": [
       "                      poi    salary  to_messages  deferral_payments  \\\n",
       "ALLEN PHILLIP K     False  201955.0       2902.0          2869717.0   \n",
       "BADUM JAMES P       False       0.0          0.0           178980.0   \n",
       "BANNANTINE JAMES M  False     477.0        566.0                0.0   \n",
       "BAXTER JOHN C       False  267102.0          0.0          1295738.0   \n",
       "BAY FRANKLIN R      False  239671.0          0.0           260455.0   \n",
       "\n",
       "                    total_payments  exercised_stock_options      bonus  \\\n",
       "ALLEN PHILLIP K          4484442.0                1729541.0  4175000.0   \n",
       "BADUM JAMES P             182466.0                 257817.0        0.0   \n",
       "BANNANTINE JAMES M        916197.0                4046157.0        0.0   \n",
       "BAXTER JOHN C            5634343.0                6680544.0  1200000.0   \n",
       "BAY FRANKLIN R            827696.0                      0.0   400000.0   \n",
       "\n",
       "                    restricted_stock  shared_receipt_with_poi  \\\n",
       "ALLEN PHILLIP K             126027.0                   1407.0   \n",
       "BADUM JAMES P                    0.0                      0.0   \n",
       "BANNANTINE JAMES M         1757552.0                    465.0   \n",
       "BAXTER JOHN C              3942714.0                      0.0   \n",
       "BAY FRANKLIN R              145796.0                      0.0   \n",
       "\n",
       "                    restricted_stock_deferred  total_stock_value  expenses  \\\n",
       "ALLEN PHILLIP K                     -126027.0          1729541.0   13868.0   \n",
       "BADUM JAMES P                             0.0           257817.0    3486.0   \n",
       "BANNANTINE JAMES M                  -560222.0          5243487.0   56301.0   \n",
       "BAXTER JOHN C                             0.0         10623258.0   11200.0   \n",
       "BAY FRANKLIN R                       -82782.0            63014.0  129142.0   \n",
       "\n",
       "                    loan_advances  from_messages      other  \\\n",
       "ALLEN PHILLIP K               0.0         2195.0      152.0   \n",
       "BADUM JAMES P                 0.0            0.0        0.0   \n",
       "BANNANTINE JAMES M            0.0           29.0   864523.0   \n",
       "BAXTER JOHN C                 0.0            0.0  2660303.0   \n",
       "BAY FRANKLIN R                0.0            0.0       69.0   \n",
       "\n",
       "                    from_this_person_to_poi  director_fees  deferred_income  \\\n",
       "ALLEN PHILLIP K                        65.0            0.0       -3081055.0   \n",
       "BADUM JAMES P                           0.0            0.0              0.0   \n",
       "BANNANTINE JAMES M                      0.0            0.0          -5104.0   \n",
       "BAXTER JOHN C                           0.0            0.0       -1386055.0   \n",
       "BAY FRANKLIN R                          0.0            0.0        -201641.0   \n",
       "\n",
       "                    long_term_incentive  from_poi_to_this_person  \n",
       "ALLEN PHILLIP K                304805.0                     47.0  \n",
       "BADUM JAMES P                       0.0                      0.0  \n",
       "BANNANTINE JAMES M                  0.0                     39.0  \n",
       "BAXTER JOHN C                 1586055.0                      0.0  \n",
       "BAY FRANKLIN R                      0.0                      0.0  "
      ]
     },
     "execution_count": 74,
     "metadata": {},
     "output_type": "execute_result"
    }
   ],
   "source": [
    "meta_df.head()"
   ]
  },
  {
   "cell_type": "markdown",
   "metadata": {},
   "source": [
    "# Manual features"
   ]
  },
  {
   "cell_type": "code",
   "execution_count": 75,
   "metadata": {},
   "outputs": [],
   "source": [
    "fin_cols = ['salary',  'deferral_payments', 'total_payments',\n",
    "       'exercised_stock_options', 'bonus', 'restricted_stock',\n",
    "       'shared_receipt_with_poi', 'restricted_stock_deferred',\n",
    "       'total_stock_value', 'expenses', 'loan_advances', \n",
    "       'other', 'director_fees', 'deferred_income', 'long_term_incentive' ]"
   ]
  },
  {
   "cell_type": "code",
   "execution_count": 76,
   "metadata": {},
   "outputs": [
    {
     "data": {
      "text/html": [
       "<div>\n",
       "<style scoped>\n",
       "    .dataframe tbody tr th:only-of-type {\n",
       "        vertical-align: middle;\n",
       "    }\n",
       "\n",
       "    .dataframe tbody tr th {\n",
       "        vertical-align: top;\n",
       "    }\n",
       "\n",
       "    .dataframe thead th {\n",
       "        text-align: right;\n",
       "    }\n",
       "</style>\n",
       "<table border=\"1\" class=\"dataframe\">\n",
       "  <thead>\n",
       "    <tr style=\"text-align: right;\">\n",
       "      <th></th>\n",
       "      <th>poi</th>\n",
       "      <th>salary</th>\n",
       "      <th>to_messages</th>\n",
       "      <th>deferral_payments</th>\n",
       "      <th>total_payments</th>\n",
       "      <th>exercised_stock_options</th>\n",
       "      <th>bonus</th>\n",
       "      <th>restricted_stock</th>\n",
       "      <th>shared_receipt_with_poi</th>\n",
       "      <th>restricted_stock_deferred</th>\n",
       "      <th>total_stock_value</th>\n",
       "      <th>expenses</th>\n",
       "      <th>loan_advances</th>\n",
       "      <th>from_messages</th>\n",
       "      <th>other</th>\n",
       "      <th>from_this_person_to_poi</th>\n",
       "      <th>director_fees</th>\n",
       "      <th>deferred_income</th>\n",
       "      <th>long_term_incentive</th>\n",
       "      <th>from_poi_to_this_person</th>\n",
       "    </tr>\n",
       "  </thead>\n",
       "  <tbody>\n",
       "    <tr>\n",
       "      <th>ALLEN PHILLIP K</th>\n",
       "      <td>False</td>\n",
       "      <td>201955.0</td>\n",
       "      <td>2902.0</td>\n",
       "      <td>2869717.0</td>\n",
       "      <td>4484442.0</td>\n",
       "      <td>1729541.0</td>\n",
       "      <td>4175000.0</td>\n",
       "      <td>126027.0</td>\n",
       "      <td>1407.0</td>\n",
       "      <td>-126027.0</td>\n",
       "      <td>1729541.0</td>\n",
       "      <td>13868.0</td>\n",
       "      <td>0.0</td>\n",
       "      <td>2195.0</td>\n",
       "      <td>152.0</td>\n",
       "      <td>65.0</td>\n",
       "      <td>0.0</td>\n",
       "      <td>-3081055.0</td>\n",
       "      <td>304805.0</td>\n",
       "      <td>47.0</td>\n",
       "    </tr>\n",
       "    <tr>\n",
       "      <th>BADUM JAMES P</th>\n",
       "      <td>False</td>\n",
       "      <td>0.0</td>\n",
       "      <td>0.0</td>\n",
       "      <td>178980.0</td>\n",
       "      <td>182466.0</td>\n",
       "      <td>257817.0</td>\n",
       "      <td>0.0</td>\n",
       "      <td>0.0</td>\n",
       "      <td>0.0</td>\n",
       "      <td>0.0</td>\n",
       "      <td>257817.0</td>\n",
       "      <td>3486.0</td>\n",
       "      <td>0.0</td>\n",
       "      <td>0.0</td>\n",
       "      <td>0.0</td>\n",
       "      <td>0.0</td>\n",
       "      <td>0.0</td>\n",
       "      <td>0.0</td>\n",
       "      <td>0.0</td>\n",
       "      <td>0.0</td>\n",
       "    </tr>\n",
       "    <tr>\n",
       "      <th>BANNANTINE JAMES M</th>\n",
       "      <td>False</td>\n",
       "      <td>477.0</td>\n",
       "      <td>566.0</td>\n",
       "      <td>0.0</td>\n",
       "      <td>916197.0</td>\n",
       "      <td>4046157.0</td>\n",
       "      <td>0.0</td>\n",
       "      <td>1757552.0</td>\n",
       "      <td>465.0</td>\n",
       "      <td>-560222.0</td>\n",
       "      <td>5243487.0</td>\n",
       "      <td>56301.0</td>\n",
       "      <td>0.0</td>\n",
       "      <td>29.0</td>\n",
       "      <td>864523.0</td>\n",
       "      <td>0.0</td>\n",
       "      <td>0.0</td>\n",
       "      <td>-5104.0</td>\n",
       "      <td>0.0</td>\n",
       "      <td>39.0</td>\n",
       "    </tr>\n",
       "    <tr>\n",
       "      <th>BAXTER JOHN C</th>\n",
       "      <td>False</td>\n",
       "      <td>267102.0</td>\n",
       "      <td>0.0</td>\n",
       "      <td>1295738.0</td>\n",
       "      <td>5634343.0</td>\n",
       "      <td>6680544.0</td>\n",
       "      <td>1200000.0</td>\n",
       "      <td>3942714.0</td>\n",
       "      <td>0.0</td>\n",
       "      <td>0.0</td>\n",
       "      <td>10623258.0</td>\n",
       "      <td>11200.0</td>\n",
       "      <td>0.0</td>\n",
       "      <td>0.0</td>\n",
       "      <td>2660303.0</td>\n",
       "      <td>0.0</td>\n",
       "      <td>0.0</td>\n",
       "      <td>-1386055.0</td>\n",
       "      <td>1586055.0</td>\n",
       "      <td>0.0</td>\n",
       "    </tr>\n",
       "    <tr>\n",
       "      <th>BAY FRANKLIN R</th>\n",
       "      <td>False</td>\n",
       "      <td>239671.0</td>\n",
       "      <td>0.0</td>\n",
       "      <td>260455.0</td>\n",
       "      <td>827696.0</td>\n",
       "      <td>0.0</td>\n",
       "      <td>400000.0</td>\n",
       "      <td>145796.0</td>\n",
       "      <td>0.0</td>\n",
       "      <td>-82782.0</td>\n",
       "      <td>63014.0</td>\n",
       "      <td>129142.0</td>\n",
       "      <td>0.0</td>\n",
       "      <td>0.0</td>\n",
       "      <td>69.0</td>\n",
       "      <td>0.0</td>\n",
       "      <td>0.0</td>\n",
       "      <td>-201641.0</td>\n",
       "      <td>0.0</td>\n",
       "      <td>0.0</td>\n",
       "    </tr>\n",
       "  </tbody>\n",
       "</table>\n",
       "</div>"
      ],
      "text/plain": [
       "                      poi    salary  to_messages  deferral_payments  \\\n",
       "ALLEN PHILLIP K     False  201955.0       2902.0          2869717.0   \n",
       "BADUM JAMES P       False       0.0          0.0           178980.0   \n",
       "BANNANTINE JAMES M  False     477.0        566.0                0.0   \n",
       "BAXTER JOHN C       False  267102.0          0.0          1295738.0   \n",
       "BAY FRANKLIN R      False  239671.0          0.0           260455.0   \n",
       "\n",
       "                    total_payments  exercised_stock_options      bonus  \\\n",
       "ALLEN PHILLIP K          4484442.0                1729541.0  4175000.0   \n",
       "BADUM JAMES P             182466.0                 257817.0        0.0   \n",
       "BANNANTINE JAMES M        916197.0                4046157.0        0.0   \n",
       "BAXTER JOHN C            5634343.0                6680544.0  1200000.0   \n",
       "BAY FRANKLIN R            827696.0                      0.0   400000.0   \n",
       "\n",
       "                    restricted_stock  shared_receipt_with_poi  \\\n",
       "ALLEN PHILLIP K             126027.0                   1407.0   \n",
       "BADUM JAMES P                    0.0                      0.0   \n",
       "BANNANTINE JAMES M         1757552.0                    465.0   \n",
       "BAXTER JOHN C              3942714.0                      0.0   \n",
       "BAY FRANKLIN R              145796.0                      0.0   \n",
       "\n",
       "                    restricted_stock_deferred  total_stock_value  expenses  \\\n",
       "ALLEN PHILLIP K                     -126027.0          1729541.0   13868.0   \n",
       "BADUM JAMES P                             0.0           257817.0    3486.0   \n",
       "BANNANTINE JAMES M                  -560222.0          5243487.0   56301.0   \n",
       "BAXTER JOHN C                             0.0         10623258.0   11200.0   \n",
       "BAY FRANKLIN R                       -82782.0            63014.0  129142.0   \n",
       "\n",
       "                    loan_advances  from_messages      other  \\\n",
       "ALLEN PHILLIP K               0.0         2195.0      152.0   \n",
       "BADUM JAMES P                 0.0            0.0        0.0   \n",
       "BANNANTINE JAMES M            0.0           29.0   864523.0   \n",
       "BAXTER JOHN C                 0.0            0.0  2660303.0   \n",
       "BAY FRANKLIN R                0.0            0.0       69.0   \n",
       "\n",
       "                    from_this_person_to_poi  director_fees  deferred_income  \\\n",
       "ALLEN PHILLIP K                        65.0            0.0       -3081055.0   \n",
       "BADUM JAMES P                           0.0            0.0              0.0   \n",
       "BANNANTINE JAMES M                      0.0            0.0          -5104.0   \n",
       "BAXTER JOHN C                           0.0            0.0       -1386055.0   \n",
       "BAY FRANKLIN R                          0.0            0.0        -201641.0   \n",
       "\n",
       "                    long_term_incentive  from_poi_to_this_person  \n",
       "ALLEN PHILLIP K                304805.0                     47.0  \n",
       "BADUM JAMES P                       0.0                      0.0  \n",
       "BANNANTINE JAMES M                  0.0                     39.0  \n",
       "BAXTER JOHN C                 1586055.0                      0.0  \n",
       "BAY FRANKLIN R                      0.0                      0.0  "
      ]
     },
     "execution_count": 76,
     "metadata": {},
     "output_type": "execute_result"
    }
   ],
   "source": [
    "# meta_df['salary_df_di_per'] = meta_df['salary']/( meta_df['deferred_income'] + meta_df['director_fees'] )\n",
    "#meta_df['total_email_poi'] = meta_df['from_this_person_to_poi'] + meta_df['from_poi_to_this_person']  # not bad\n",
    "#meta_df['poi_email_percent'] = meta_df['from_this_person_to_poi'] / meta_df['from_messages']\n",
    "# meta_df['bonus_total'] = meta_df['bonus'] / meta_df['total_payments'] \n",
    "# meta_df['bonus_salary'] = meta_df['bonus'] / meta_df['salary']\n",
    "# meta_df['salary_bonus_per'] = meta_df['salary'] / meta_df['bonus']\n",
    "# email_tot= 0.0\n",
    "# for col in email_cols:\n",
    "#     new = meta_df[col].values\n",
    "#     email_tot += new \n",
    "# meta_df['tot_email'] = tot\n",
    "\n",
    "# tot= 0.0\n",
    "# for col in fin_cols:\n",
    "#     new = meta_df[col].values\n",
    "#     tot += new   \n",
    "\n",
    "# meta_df['tot_finance'] = tot\n",
    "\n",
    "# meta_df['std_finance'] = meta_df['tot_finance']/ meta_df['tot_finance'].std()\n",
    "# meta_df['total_salary_per'] = meta_df['tot_finance']/ meta_df['salary']\n",
    "\n",
    "\n",
    "meta_df.head()"
   ]
  },
  {
   "cell_type": "code",
   "execution_count": 77,
   "metadata": {},
   "outputs": [
    {
     "data": {
      "text/plain": [
       "<matplotlib.axes._subplots.AxesSubplot at 0xcdb0eb8>"
      ]
     },
     "execution_count": 77,
     "metadata": {},
     "output_type": "execute_result"
    },
    {
     "data": {
      "image/png": "[encoded data removed]",
      "text/plain": [
       "<Figure size 864x864 with 2 Axes>"
      ]
     },
     "metadata": {},
     "output_type": "display_data"
    }
   ],
   "source": [
    "f, ax = plt.subplots(figsize=(12, 12))\n",
    "corr = meta_df.corr()\n",
    "sns.heatmap(corr, mask=np.zeros_like(corr, dtype=np.bool), cmap=sns.diverging_palette(220, 10, as_cmap=True),\n",
    "            square=True, ax=ax)"
   ]
  },
  {
   "cell_type": "markdown",
   "metadata": {},
   "source": [
    "## K Best"
   ]
  },
  {
   "cell_type": "code",
   "execution_count": 78,
   "metadata": {},
   "outputs": [],
   "source": [
    "X_df = meta_df.copy()\n",
    "y_df = X_df['poi'].copy()\n",
    "X_df.drop(['poi'], axis = 1, inplace = True)"
   ]
  },
  {
   "cell_type": "code",
   "execution_count": 79,
   "metadata": {},
   "outputs": [
    {
     "data": {
      "text/plain": [
       "SelectKBest(k='all', score_func=<function f_classif at 0x000000000C648A58>)"
      ]
     },
     "execution_count": 79,
     "metadata": {},
     "output_type": "execute_result"
    }
   ],
   "source": [
    "kb = SelectKBest(k='all')\n",
    "kb.fit(X_df, y_df)\n"
   ]
  },
  {
   "cell_type": "code",
   "execution_count": 80,
   "metadata": {},
   "outputs": [
    {
     "name": "stdout",
     "output_type": "stream",
     "text": [
      "                      Feature    f_score\n",
      "5                       bonus  33.129423\n",
      "4     exercised_stock_options  23.501172\n",
      "9           total_stock_value  22.573309\n",
      "0                      salary  20.021395\n",
      "7     shared_receipt_with_poi  18.121245\n",
      "18    from_poi_to_this_person  17.699080\n",
      "17        long_term_incentive  11.540239\n",
      "16            deferred_income  10.129927\n",
      "3              total_payments   8.808366\n",
      "6            restricted_stock   8.362250\n",
      "10                   expenses   6.482924\n",
      "11              loan_advances   6.480090\n",
      "14    from_this_person_to_poi   6.148112\n",
      "1                 to_messages   3.738645\n",
      "13                      other   3.593790\n",
      "15              director_fees   2.197621\n",
      "8   restricted_stock_deferred   0.917976\n",
      "2           deferral_payments   0.291675\n",
      "12              from_messages   0.042280\n"
     ]
    }
   ],
   "source": [
    "names = X_df.columns.values[kb.get_support()]\n",
    "scores = kb.scores_[kb.get_support()]\n",
    "names_scores = list(zip(names, scores))\n",
    "ns_df = pd.DataFrame(data = names_scores, columns = ['Feature','f_score'])\n",
    "ns_df_sorted = ns_df.sort_values(['f_score','Feature'], ascending =\n",
    "[False, True])\n",
    "print(ns_df_sorted)"
   ]
  },
  {
   "cell_type": "code",
   "execution_count": 81,
   "metadata": {},
   "outputs": [
    {
     "data": {
      "text/plain": [
       "[Text(0,0.5,'F_Score'), Text(0.5,0,'Feature')]"
      ]
     },
     "execution_count": 81,
     "metadata": {},
     "output_type": "execute_result"
    },
    {
     "data": {
      "image/png": "[encoded data removed]",
      "text/plain": [
       "<Figure size 1224x648 with 1 Axes>"
      ]
     },
     "metadata": {},
     "output_type": "display_data"
    }
   ],
   "source": [
    "fig, (ax1) = plt.subplots(ncols=1, figsize=(17,9))\n",
    "ax1.set_title('SelectKBest Scores', fontdict = {'fontsize' : 16})\n",
    "\n",
    "kg = sns.barplot(x =ns_df_sorted['Feature'], y = ns_df_sorted['f_score'], palette=\"deep\", ax = ax1)\n",
    "plt.setp(kg.get_xticklabels(), rotation=85)\n",
    "ax1.set(xlabel='Feature', ylabel='F_Score')"
   ]
  },
  {
   "cell_type": "markdown",
   "metadata": {},
   "source": [
    "# Meta Learners"
   ]
  },
  {
   "cell_type": "code",
   "execution_count": 82,
   "metadata": {},
   "outputs": [
    {
     "data": {
      "text/plain": [
       "(131, 20)"
      ]
     },
     "execution_count": 82,
     "metadata": {},
     "output_type": "execute_result"
    }
   ],
   "source": [
    "meta_df.shape"
   ]
  },
  {
   "cell_type": "markdown",
   "metadata": {},
   "source": [
    "<a id='olsfinal'></a>\n",
    "## StudentizedOLSClassifier"
   ]
  },
  {
   "cell_type": "code",
   "execution_count": 83,
   "metadata": {},
   "outputs": [
    {
     "name": "stdout",
     "output_type": "stream",
     "text": [
      "StudentizedOLSClassifier(threshold=0.88)\n",
      "\tAccuracy: 0.85546\tPrecision: 0.52507\tRecall: 0.63350\tF1: 0.57421\tF2: 0.60837\n",
      "\tTotal predictions: 13000\tTrue positives: 1267\tFalse positives: 1146\tFalse negatives:  733\tTrue negatives: 9854\n",
      "\n"
     ]
    }
   ],
   "source": [
    "# ols vanilla\n",
    "ols_m = StudentizedOLSClassifier(0.88) \n",
    "#model = Pipeline([('smt', smt),  ('ols', ols_m)])\n",
    "model = ols_m\n",
    "feat, dat = tester_prep(meta_df)\n",
    "test_classifier(model, dat, feat)"
   ]
  },
  {
   "cell_type": "code",
   "execution_count": 84,
   "metadata": {},
   "outputs": [
    {
     "name": "stdout",
     "output_type": "stream",
     "text": [
      "Pipeline(memory=None,\n",
      "     steps=[('kBest', SelectKBest(k=19, score_func=<function f_classif at 0x000000000C648A58>)), ('ols', StudentizedOLSClassifier(threshold=0.9))])\n",
      "\tAccuracy: 0.85608\tPrecision: 0.52720\tRecall: 0.62500\tF1: 0.57195\tF2: 0.60264\n",
      "\tTotal predictions: 13000\tTrue positives: 1250\tFalse positives: 1121\tFalse negatives:  750\tTrue negatives: 9879\n",
      "\n"
     ]
    }
   ],
   "source": [
    " # ols pipe\n",
    "k = 19\n",
    "ols_m = StudentizedOLSClassifier(0.9) \n",
    "#model = Pipeline([('fpr', SelectFpr()),  ('ols', ols_m)]) \n",
    "model = Pipeline([ ('kBest', SelectKBest( k = k)), ('ols', ols_m)])\n",
    "#model = ols_m\n",
    "feat, dat = tester_prep(meta_df)\n",
    "test_classifier(model, dat, feat)"
   ]
  },
  {
   "cell_type": "code",
   "execution_count": 85,
   "metadata": {},
   "outputs": [
    {
     "name": "stdout",
     "output_type": "stream",
     "text": [
      "Pipeline(memory=None,\n",
      "     steps=[('smt', SMOTE(k=None, k_neighbors=7, kind='regular', m=None, m_neighbors=10, n_jobs=1,\n",
      "   out_step=0.5, random_state=5678, ratio='auto', svm_estimator=None)), ('ols', StudentizedOLSClassifier(threshold=1.1))])\n",
      "\tAccuracy: 0.82946\tPrecision: 0.45783\tRecall: 0.58900\tF1: 0.51520\tF2: 0.55708\n",
      "\tTotal predictions: 13000\tTrue positives: 1178\tFalse positives: 1395\tFalse negatives:  822\tTrue negatives: 9605\n",
      "\n"
     ]
    }
   ],
   "source": [
    " # ols pipe smt\n",
    "smt = SMOTE(kind = 'regular',k_neighbors = 7, random_state = SEED)\n",
    "\n",
    "k = 23\n",
    "ols_m = StudentizedOLSClassifier(1.1) \n",
    "#model = Pipeline([('fpr', SelectFpr()),  ('ols', ols_m)]) \n",
    "#model = Pipeline([ ('smt', smt), ('kBest', SelectKBest( k = k)), ('ols', ols_m)])\n",
    "model = Pipeline([ ('smt', smt),  ('ols', ols_m)])\n",
    "#model = ols_m\n",
    "feat, dat = tester_prep(meta_df)\n",
    "test_classifier(model, dat, feat)"
   ]
  },
  {
   "cell_type": "markdown",
   "metadata": {},
   "source": [
    "## ADA FINAL"
   ]
  },
  {
   "cell_type": "code",
   "execution_count": 86,
   "metadata": {},
   "outputs": [
    {
     "name": "stdout",
     "output_type": "stream",
     "text": [
      "Fitting 5 folds for each of 12 candidates, totalling 60 fits\n"
     ]
    },
    {
     "name": "stderr",
     "output_type": "stream",
     "text": [
      "[Parallel(n_jobs=6)]: Done  38 tasks      | elapsed:    5.7s\n",
      "[Parallel(n_jobs=6)]: Done  60 out of  60 | elapsed:    6.7s finished\n"
     ]
    }
   ],
   "source": [
    "abc_cv = AdaBoostClassifier(random_state = SEED)\n",
    "\n",
    "abc_grid = {'n_estimators' : [50, 75, 100, 150], \n",
    "            'learning_rate': [0.1, 0.2, 0.5]}\n",
    "\n",
    "scoring = \"recall\"\n",
    "\n",
    "gs_abc = GridSearchCV(abc_cv, param_grid=abc_grid, scoring=scoring, cv=5, n_jobs= 6, verbose = 1)\n",
    "\n",
    "gs_abc.fit(X_df, y_df) \n",
    "results = gs_abc.cv_results_"
   ]
  },
  {
   "cell_type": "code",
   "execution_count": 87,
   "metadata": {},
   "outputs": [
    {
     "name": "stdout",
     "output_type": "stream",
     "text": [
      "Best kfold score: 0.345419847328\n",
      "Best kfold parameters: {'n_estimators': 50, 'learning_rate': 0.1}\n"
     ]
    }
   ],
   "source": [
    "print('Best kfold score: {}'.format(gs_abc.best_score_)) \n",
    "print('Best kfold parameters: {}'.format(gs_abc.best_params_))"
   ]
  },
  {
   "cell_type": "code",
   "execution_count": 88,
   "metadata": {},
   "outputs": [],
   "source": [
    "#old model better\n",
    "abc_m = AdaBoostClassifier(n_estimators = 150,\n",
    "                           learning_rate = 0.2,\n",
    "                           random_state = SEED)\n",
    "\n",
    "abc_m = AdaBoostClassifier()"
   ]
  },
  {
   "cell_type": "code",
   "execution_count": 89,
   "metadata": {},
   "outputs": [
    {
     "name": "stdout",
     "output_type": "stream",
     "text": [
      "Pipeline(memory=None,\n",
      "     steps=[('smt', SMOTE(k=None, k_neighbors=7, kind='regular', m=None, m_neighbors=10, n_jobs=1,\n",
      "   out_step=0.5, random_state=5678, ratio='auto', svm_estimator=None)), ('abc', AdaBoostClassifier(algorithm='SAMME.R', base_estimator=None,\n",
      "          learning_rate=1.0, n_estimators=50, random_state=None))])\n",
      "\tAccuracy: 0.81923\tPrecision: 0.41026\tRecall: 0.40000\tF1: 0.40506\tF2: 0.40201\n",
      "\tTotal predictions:  260\tTrue positives:   16\tFalse positives:   23\tFalse negatives:   24\tTrue negatives:  197\n",
      "\n"
     ]
    }
   ],
   "source": [
    "# Fast TESTER with pipe\n",
    "model = Pipeline([('smt', smt),  ('abc', abc_m)])\n",
    "#model = abc_m\n",
    "feat, dat = tester_prep(meta_df)\n",
    "test_classifier_fast(model, dat, feat)"
   ]
  },
  {
   "cell_type": "markdown",
   "metadata": {},
   "source": [
    "## LightGBM"
   ]
  },
  {
   "cell_type": "code",
   "execution_count": 90,
   "metadata": {},
   "outputs": [
    {
     "name": "stdout",
     "output_type": "stream",
     "text": [
      "Fitting 5 folds for each of 36 candidates, totalling 180 fits\n"
     ]
    },
    {
     "name": "stderr",
     "output_type": "stream",
     "text": [
      "[Parallel(n_jobs=6)]: Done  38 tasks      | elapsed:   35.8s\n",
      "[Parallel(n_jobs=6)]: Done 180 out of 180 | elapsed:  1.7min finished\n"
     ]
    }
   ],
   "source": [
    "lgb_cv = lgb.LGBMClassifier( objective   =  'binary' )\n",
    "\n",
    "lgb_grid = {\"learning_rate\": [0.007, 0.01, 0.03],\n",
    "                  \"n_estimators\": [ 750, 1000, 2000],\n",
    "                  \"boosting_type\" : ['dart', 'GBDT'],\n",
    "                  #\"num_leaves\": [31],\n",
    "                  #\"max_bin\":[ 300],\n",
    "                  #\"rsm\": [.05, 0.1, 0.15],\n",
    "                  \"max_depth\": [-1],\n",
    "                  \"xgboost_dart_mode\" : [True, False],\n",
    "                  #\"bootstrap\": [True],\n",
    "                  #\"oob_score\": [True],\n",
    "                  #\"n_estimators\" :[500,1000,2000],\n",
    "                  # \"max_leaf_nodes\" : np.rint(np.linspace(10, train_data.shape[0]/50, 10)).astype(int),\n",
    "                  #\"criterion\": [\"gini\",\"entropy\"],\n",
    "                  'random_state' : [SEED]}\n",
    "\n",
    "\n",
    "\n",
    "scoring = \"recall\"\n",
    "\n",
    "gs_lgb = GridSearchCV(lgb_cv,\n",
    "                     param_grid=lgb_grid,\n",
    "                     scoring=scoring, cv=5, n_jobs= 6, verbose = 1)\n",
    "\n",
    "gs_lgb.fit(X_df, y_df)\n",
    "results = gs_lgb.cv_results_"
   ]
  },
  {
   "cell_type": "code",
   "execution_count": 91,
   "metadata": {},
   "outputs": [
    {
     "name": "stdout",
     "output_type": "stream",
     "text": [
      "Best kfold score: 0.372773536896\n",
      "Best kfold parameters: {'learning_rate': 0.01, 'xgboost_dart_mode': True, 'n_estimators': 750, 'random_state': 5678, 'max_depth': -1, 'boosting_type': 'GBDT'}\n"
     ]
    }
   ],
   "source": [
    "print('Best kfold score: {}'.format(gs_lgb.best_score_))\n",
    "print('Best kfold parameters: {}'.format(gs_lgb.best_params_))"
   ]
  },
  {
   "cell_type": "code",
   "execution_count": 92,
   "metadata": {},
   "outputs": [],
   "source": [
    "lgb_m = lgb.LGBMClassifier( learning_rate = 0.01, \n",
    "                           boosting_type = 'GBDT', \n",
    "                           n_estimators = 750, \n",
    "                           max_depth = -1, \n",
    "                           xgboost_dart_mode = True,\n",
    "                           objective   =  'binary', \n",
    "                           random_state = SEED )"
   ]
  },
  {
   "cell_type": "code",
   "execution_count": 93,
   "metadata": {},
   "outputs": [
    {
     "name": "stdout",
     "output_type": "stream",
     "text": [
      "LGBMClassifier(boosting_type='GBDT', class_weight=None, colsample_bytree=1.0,\n",
      "        importance_type='split', learning_rate=0.01, max_depth=-1,\n",
      "        min_child_samples=20, min_child_weight=0.001, min_split_gain=0.0,\n",
      "        n_estimators=750, n_jobs=-1, num_leaves=31, objective='binary',\n",
      "        random_state=5678, reg_alpha=0.0, reg_lambda=0.0, silent=True,\n",
      "        subsample=1.0, subsample_for_bin=200000, subsample_freq=0,\n",
      "        xgboost_dart_mode=True)\n",
      "\tAccuracy: 0.83077\tPrecision: 0.40000\tRecall: 0.20000\tF1: 0.26667\tF2: 0.22222\n",
      "\tTotal predictions:  260\tTrue positives:    8\tFalse positives:   12\tFalse negatives:   32\tTrue negatives:  208\n",
      "\n"
     ]
    }
   ],
   "source": [
    "# Fast TESTER with pipe\n",
    "k= 19\n",
    "#model = Pipeline([('smt', smt),('kBest', SelectKBest( k = k)),  ('lgb', lgb_m)])\n",
    "model = lgb_m\n",
    "feat, dat = tester_prep(meta_df)\n",
    "test_classifier_fast(model, dat, feat)"
   ]
  },
  {
   "cell_type": "code",
   "execution_count": null,
   "metadata": {},
   "outputs": [],
   "source": []
  }
 ],
 "metadata": {
  "kernelspec": {
   "display_name": "Python 2",
   "language": "python",
   "name": "python2"
  },
  "language_info": {
   "codemirror_mode": {
    "name": "ipython",
    "version": 2
   },
   "file_extension": ".py",
   "mimetype": "text/x-python",
   "name": "python",
   "nbconvert_exporter": "python",
   "pygments_lexer": "ipython2",
   "version": "2.7.16"
  }
 },
 "nbformat": 4,
 "nbformat_minor": 2
}
